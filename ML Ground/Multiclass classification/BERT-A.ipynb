{
 "cells": [
  {
   "cell_type": "code",
   "execution_count": 1,
   "metadata": {
    "execution": {
     "iopub.execute_input": "2021-06-28T01:49:28.398229Z",
     "iopub.status.busy": "2021-06-28T01:49:28.397933Z",
     "iopub.status.idle": "2021-06-28T01:49:28.642113Z",
     "shell.execute_reply": "2021-06-28T01:49:28.641502Z",
     "shell.execute_reply.started": "2021-06-28T01:49:28.398156Z"
    },
    "id": "_JXpxN7lE59Z"
   },
   "outputs": [],
   "source": [
    "import pandas as pd"
   ]
  },
  {
   "cell_type": "code",
   "execution_count": 2,
   "metadata": {
    "execution": {
     "iopub.execute_input": "2021-06-28T01:49:29.221182Z",
     "iopub.status.busy": "2021-06-28T01:49:29.220952Z",
     "iopub.status.idle": "2021-06-28T01:49:29.223850Z",
     "shell.execute_reply": "2021-06-28T01:49:29.223275Z",
     "shell.execute_reply.started": "2021-06-28T01:49:29.221158Z"
    },
    "id": "5wwA7bnsGFLK"
   },
   "outputs": [],
   "source": [
    "\n",
    "import os"
   ]
  },
  {
   "cell_type": "code",
   "execution_count": 3,
   "metadata": {
    "execution": {
     "iopub.execute_input": "2021-06-28T01:49:30.744275Z",
     "iopub.status.busy": "2021-06-28T01:49:30.744042Z",
     "iopub.status.idle": "2021-06-28T01:49:30.746991Z",
     "shell.execute_reply": "2021-06-28T01:49:30.746423Z",
     "shell.execute_reply.started": "2021-06-28T01:49:30.744252Z"
    },
    "id": "4BpleSSqGOOu"
   },
   "outputs": [],
   "source": [
    "\n",
    "cwd = os.getcwd()"
   ]
  },
  {
   "cell_type": "code",
   "execution_count": 4,
   "metadata": {
    "execution": {
     "iopub.execute_input": "2021-06-28T01:49:31.592578Z",
     "iopub.status.busy": "2021-06-28T01:49:31.592354Z",
     "iopub.status.idle": "2021-06-28T01:49:31.595609Z",
     "shell.execute_reply": "2021-06-28T01:49:31.594818Z",
     "shell.execute_reply.started": "2021-06-28T01:49:31.592556Z"
    },
    "id": "wpJLwax7GPXy"
   },
   "outputs": [],
   "source": [
    "\n",
    "#data_path = 'Anand/'"
   ]
  },
  {
   "cell_type": "code",
   "execution_count": 5,
   "metadata": {
    "execution": {
     "iopub.execute_input": "2021-06-28T01:49:32.609731Z",
     "iopub.status.busy": "2021-06-28T01:49:32.609510Z",
     "iopub.status.idle": "2021-06-28T01:49:32.627192Z",
     "shell.execute_reply": "2021-06-28T01:49:32.626655Z",
     "shell.execute_reply.started": "2021-06-28T01:49:32.609709Z"
    },
    "id": "2xYTKpqTGgoT"
   },
   "outputs": [],
   "source": [
    "\n",
    "#similar = pd.read_csv('prediction_sheet_approach_2.csv')\n",
    "similar = pd.read_csv('scaled_prediction_sheet_approach_2.csv')"
   ]
  },
  {
   "cell_type": "code",
   "execution_count": 6,
   "metadata": {
    "colab": {
     "base_uri": "https://localhost:8080/"
    },
    "execution": {
     "iopub.execute_input": "2021-06-28T01:49:34.556827Z",
     "iopub.status.busy": "2021-06-28T01:49:34.556588Z",
     "iopub.status.idle": "2021-06-28T01:49:34.567767Z",
     "shell.execute_reply": "2021-06-28T01:49:34.566849Z",
     "shell.execute_reply.started": "2021-06-28T01:49:34.556803Z"
    },
    "id": "WFg8rTHOHG3X",
    "outputId": "f7b857ce-5a26-42bb-fba3-4b1fda2d5cd9"
   },
   "outputs": [
    {
     "data": {
      "text/plain": [
       "Index(['ID', 'ProjectID', 'Requirements', 'Class', 'Attractiveness',\n",
       "       'Efficiency', 'Perspicuity', 'Dependability', 'Stimulation', 'Novelty',\n",
       "       'Trust', 'Adaptability', 'Usefulness', 'Value', 'Visual Aesthetics',\n",
       "       'Intuitive Use', 'Trustworthiness of Content', 'Quality of Content',\n",
       "       'Haptics', 'Acoustics', 'Clarity', 'Response behavior',\n",
       "       'Response quality', 'Comprehensibility'],\n",
       "      dtype='object')"
      ]
     },
     "execution_count": 6,
     "metadata": {},
     "output_type": "execute_result"
    }
   ],
   "source": [
    "\n",
    "similar.columns"
   ]
  },
  {
   "cell_type": "code",
   "execution_count": 7,
   "metadata": {
    "execution": {
     "iopub.execute_input": "2021-06-28T01:49:40.952292Z",
     "iopub.status.busy": "2021-06-28T01:49:40.952046Z",
     "iopub.status.idle": "2021-06-28T01:49:40.955444Z",
     "shell.execute_reply": "2021-06-28T01:49:40.954841Z",
     "shell.execute_reply.started": "2021-06-28T01:49:40.952268Z"
    },
    "id": "kiVXhnvAHSYA"
   },
   "outputs": [],
   "source": [
    "\n",
    "labels = ['Attractiveness',\n",
    "       'Efficiency', 'Perspicuity', 'Dependability', 'Stimulation', 'Novelty',\n",
    "       'Trust', 'Adaptability', 'Usefulness', 'Value', 'Visual Aesthetics',\n",
    "       'Intuitive Use', 'Trustworthiness of Content', 'Quality of Content',\n",
    "       'Haptics', 'Acoustics', 'Clarity', 'Response behavior',\n",
    "       'Response quality', 'Comprehensibility']"
   ]
  },
  {
   "cell_type": "code",
   "execution_count": 8,
   "metadata": {
    "execution": {
     "iopub.execute_input": "2021-06-28T01:49:49.113550Z",
     "iopub.status.busy": "2021-06-28T01:49:49.113330Z",
     "iopub.status.idle": "2021-06-28T01:49:49.125709Z",
     "shell.execute_reply": "2021-06-28T01:49:49.125156Z",
     "shell.execute_reply.started": "2021-06-28T01:49:49.113529Z"
    },
    "id": "fIOQCa0gHXWc"
   },
   "outputs": [],
   "source": [
    "\n",
    "train = similar[['Requirements','Class']]"
   ]
  },
  {
   "cell_type": "code",
   "execution_count": 9,
   "metadata": {
    "colab": {
     "base_uri": "https://localhost:8080/"
    },
    "execution": {
     "iopub.execute_input": "2021-06-28T01:49:50.205469Z",
     "iopub.status.busy": "2021-06-28T01:49:50.205237Z",
     "iopub.status.idle": "2021-06-28T01:49:50.210652Z",
     "shell.execute_reply": "2021-06-28T01:49:50.210066Z",
     "shell.execute_reply.started": "2021-06-28T01:49:50.205446Z"
    },
    "id": "nPE9-TAwHsMN",
    "outputId": "73ba18eb-ecd7-4201-a0ff-234aca58d3c4"
   },
   "outputs": [
    {
     "name": "stderr",
     "output_type": "stream",
     "text": [
      "/srv/conda/envs/saturn/lib/python3.7/site-packages/ipykernel_launcher.py:1: SettingWithCopyWarning: \n",
      "A value is trying to be set on a copy of a slice from a DataFrame.\n",
      "Try using .loc[row_indexer,col_indexer] = value instead\n",
      "\n",
      "See the caveats in the documentation: https://pandas.pydata.org/pandas-docs/stable/user_guide/indexing.html#returning-a-view-versus-a-copy\n",
      "  \"\"\"Entry point for launching an IPython kernel.\n"
     ]
    }
   ],
   "source": [
    "\n",
    "train['labels'] = [labels for i in train.index]"
   ]
  },
  {
   "cell_type": "code",
   "execution_count": 10,
   "metadata": {
    "colab": {
     "base_uri": "https://localhost:8080/",
     "height": 204
    },
    "execution": {
     "iopub.execute_input": "2021-06-28T01:49:55.663868Z",
     "iopub.status.busy": "2021-06-28T01:49:55.663645Z",
     "iopub.status.idle": "2021-06-28T01:49:55.677139Z",
     "shell.execute_reply": "2021-06-28T01:49:55.676486Z",
     "shell.execute_reply.started": "2021-06-28T01:49:55.663846Z"
    },
    "id": "8WZY980uI_ja",
    "outputId": "9d1515b8-3598-46f0-bbaf-0d3aecc6531c"
   },
   "outputs": [
    {
     "data": {
      "text/html": [
       "<div>\n",
       "<style scoped>\n",
       "    .dataframe tbody tr th:only-of-type {\n",
       "        vertical-align: middle;\n",
       "    }\n",
       "\n",
       "    .dataframe tbody tr th {\n",
       "        vertical-align: top;\n",
       "    }\n",
       "\n",
       "    .dataframe thead th {\n",
       "        text-align: right;\n",
       "    }\n",
       "</style>\n",
       "<table border=\"1\" class=\"dataframe\">\n",
       "  <thead>\n",
       "    <tr style=\"text-align: right;\">\n",
       "      <th></th>\n",
       "      <th>Requirements</th>\n",
       "      <th>Class</th>\n",
       "      <th>labels</th>\n",
       "    </tr>\n",
       "  </thead>\n",
       "  <tbody>\n",
       "    <tr>\n",
       "      <th>0</th>\n",
       "      <td>The system shall refresh the display every 60 ...</td>\n",
       "      <td>PE</td>\n",
       "      <td>[Attractiveness, Efficiency, Perspicuity, Depe...</td>\n",
       "    </tr>\n",
       "    <tr>\n",
       "      <th>1</th>\n",
       "      <td>The application shall match the color of the s...</td>\n",
       "      <td>LF</td>\n",
       "      <td>[Attractiveness, Efficiency, Perspicuity, Depe...</td>\n",
       "    </tr>\n",
       "    <tr>\n",
       "      <th>2</th>\n",
       "      <td>If projected  the data must be readable.  On a...</td>\n",
       "      <td>US</td>\n",
       "      <td>[Attractiveness, Efficiency, Perspicuity, Depe...</td>\n",
       "    </tr>\n",
       "    <tr>\n",
       "      <th>3</th>\n",
       "      <td>The product shall be available during normal b...</td>\n",
       "      <td>A</td>\n",
       "      <td>[Attractiveness, Efficiency, Perspicuity, Depe...</td>\n",
       "    </tr>\n",
       "    <tr>\n",
       "      <th>4</th>\n",
       "      <td>If projected  the data must be understandable....</td>\n",
       "      <td>US</td>\n",
       "      <td>[Attractiveness, Efficiency, Perspicuity, Depe...</td>\n",
       "    </tr>\n",
       "  </tbody>\n",
       "</table>\n",
       "</div>"
      ],
      "text/plain": [
       "                                        Requirements Class  \\\n",
       "0  The system shall refresh the display every 60 ...    PE   \n",
       "1  The application shall match the color of the s...    LF   \n",
       "2  If projected  the data must be readable.  On a...    US   \n",
       "3  The product shall be available during normal b...     A   \n",
       "4  If projected  the data must be understandable....    US   \n",
       "\n",
       "                                              labels  \n",
       "0  [Attractiveness, Efficiency, Perspicuity, Depe...  \n",
       "1  [Attractiveness, Efficiency, Perspicuity, Depe...  \n",
       "2  [Attractiveness, Efficiency, Perspicuity, Depe...  \n",
       "3  [Attractiveness, Efficiency, Perspicuity, Depe...  \n",
       "4  [Attractiveness, Efficiency, Perspicuity, Depe...  "
      ]
     },
     "execution_count": 10,
     "metadata": {},
     "output_type": "execute_result"
    }
   ],
   "source": [
    "\n",
    "train.head()"
   ]
  },
  {
   "cell_type": "code",
   "execution_count": 11,
   "metadata": {
    "execution": {
     "iopub.execute_input": "2021-06-28T01:49:56.779552Z",
     "iopub.status.busy": "2021-06-28T01:49:56.779327Z",
     "iopub.status.idle": "2021-06-28T01:49:56.797340Z",
     "shell.execute_reply": "2021-06-28T01:49:56.796722Z",
     "shell.execute_reply.started": "2021-06-28T01:49:56.779530Z"
    },
    "id": "2Sc8Ekh2Krvy"
   },
   "outputs": [],
   "source": [
    "\n",
    "train1 = train.assign(names=train.labels.str.split(\",\")).explode('labels')"
   ]
  },
  {
   "cell_type": "code",
   "execution_count": 12,
   "metadata": {
    "colab": {
     "base_uri": "https://localhost:8080/"
    },
    "execution": {
     "iopub.execute_input": "2021-06-28T01:49:57.540621Z",
     "iopub.status.busy": "2021-06-28T01:49:57.540368Z",
     "iopub.status.idle": "2021-06-28T01:49:57.544655Z",
     "shell.execute_reply": "2021-06-28T01:49:57.543872Z",
     "shell.execute_reply.started": "2021-06-28T01:49:57.540596Z"
    },
    "id": "5ZvjV02_LAN0",
    "outputId": "6fc46034-b665-43de-a9b7-0036690af025"
   },
   "outputs": [
    {
     "data": {
      "text/plain": [
       "(969, 3)"
      ]
     },
     "execution_count": 12,
     "metadata": {},
     "output_type": "execute_result"
    }
   ],
   "source": [
    "\n",
    "train.shape"
   ]
  },
  {
   "cell_type": "code",
   "execution_count": 13,
   "metadata": {
    "colab": {
     "base_uri": "https://localhost:8080/"
    },
    "execution": {
     "iopub.execute_input": "2021-06-28T01:50:03.465297Z",
     "iopub.status.busy": "2021-06-28T01:50:03.465073Z",
     "iopub.status.idle": "2021-06-28T01:50:03.469617Z",
     "shell.execute_reply": "2021-06-28T01:50:03.468950Z",
     "shell.execute_reply.started": "2021-06-28T01:50:03.465275Z"
    },
    "id": "ne-w2fiHK4gg",
    "outputId": "514042b9-19ca-4603-c564-4cd8b9603053"
   },
   "outputs": [
    {
     "data": {
      "text/plain": [
       "Index(['Requirements', 'Class', 'labels', 'names'], dtype='object')"
      ]
     },
     "execution_count": 13,
     "metadata": {},
     "output_type": "execute_result"
    }
   ],
   "source": [
    "\n",
    "train1.columns"
   ]
  },
  {
   "cell_type": "code",
   "execution_count": 14,
   "metadata": {
    "execution": {
     "iopub.execute_input": "2021-06-28T01:50:15.018629Z",
     "iopub.status.busy": "2021-06-28T01:50:15.018395Z",
     "iopub.status.idle": "2021-06-28T01:50:15.023319Z",
     "shell.execute_reply": "2021-06-28T01:50:15.022503Z",
     "shell.execute_reply.started": "2021-06-28T01:50:15.018606Z"
    },
    "id": "IlhT2RP9LWju"
   },
   "outputs": [],
   "source": [
    "\n",
    "train1 = train1[['Requirements', 'Class','labels']]"
   ]
  },
  {
   "cell_type": "code",
   "execution_count": 15,
   "metadata": {
    "execution": {
     "iopub.execute_input": "2021-06-28T01:50:21.091789Z",
     "iopub.status.busy": "2021-06-28T01:50:21.091565Z",
     "iopub.status.idle": "2021-06-28T01:50:21.096336Z",
     "shell.execute_reply": "2021-06-28T01:50:21.095595Z",
     "shell.execute_reply.started": "2021-06-28T01:50:21.091766Z"
    },
    "id": "O9lQN_bnLbfr"
   },
   "outputs": [],
   "source": [
    "train1 = train1.reset_index()"
   ]
  },
  {
   "cell_type": "code",
   "execution_count": 16,
   "metadata": {
    "colab": {
     "base_uri": "https://localhost:8080/",
     "height": 359
    },
    "execution": {
     "iopub.execute_input": "2021-06-28T01:50:21.907801Z",
     "iopub.status.busy": "2021-06-28T01:50:21.907549Z",
     "iopub.status.idle": "2021-06-28T01:50:21.916162Z",
     "shell.execute_reply": "2021-06-28T01:50:21.915543Z",
     "shell.execute_reply.started": "2021-06-28T01:50:21.907778Z"
    },
    "id": "yoPhKnH3Li0k",
    "outputId": "e2367e43-2952-468e-9eae-25acd4e71bd7"
   },
   "outputs": [
    {
     "data": {
      "text/html": [
       "<div>\n",
       "<style scoped>\n",
       "    .dataframe tbody tr th:only-of-type {\n",
       "        vertical-align: middle;\n",
       "    }\n",
       "\n",
       "    .dataframe tbody tr th {\n",
       "        vertical-align: top;\n",
       "    }\n",
       "\n",
       "    .dataframe thead th {\n",
       "        text-align: right;\n",
       "    }\n",
       "</style>\n",
       "<table border=\"1\" class=\"dataframe\">\n",
       "  <thead>\n",
       "    <tr style=\"text-align: right;\">\n",
       "      <th></th>\n",
       "      <th>index</th>\n",
       "      <th>Requirements</th>\n",
       "      <th>Class</th>\n",
       "      <th>labels</th>\n",
       "    </tr>\n",
       "  </thead>\n",
       "  <tbody>\n",
       "    <tr>\n",
       "      <th>0</th>\n",
       "      <td>0</td>\n",
       "      <td>The system shall refresh the display every 60 ...</td>\n",
       "      <td>PE</td>\n",
       "      <td>Attractiveness</td>\n",
       "    </tr>\n",
       "    <tr>\n",
       "      <th>1</th>\n",
       "      <td>0</td>\n",
       "      <td>The system shall refresh the display every 60 ...</td>\n",
       "      <td>PE</td>\n",
       "      <td>Efficiency</td>\n",
       "    </tr>\n",
       "    <tr>\n",
       "      <th>2</th>\n",
       "      <td>0</td>\n",
       "      <td>The system shall refresh the display every 60 ...</td>\n",
       "      <td>PE</td>\n",
       "      <td>Perspicuity</td>\n",
       "    </tr>\n",
       "    <tr>\n",
       "      <th>3</th>\n",
       "      <td>0</td>\n",
       "      <td>The system shall refresh the display every 60 ...</td>\n",
       "      <td>PE</td>\n",
       "      <td>Dependability</td>\n",
       "    </tr>\n",
       "    <tr>\n",
       "      <th>4</th>\n",
       "      <td>0</td>\n",
       "      <td>The system shall refresh the display every 60 ...</td>\n",
       "      <td>PE</td>\n",
       "      <td>Stimulation</td>\n",
       "    </tr>\n",
       "    <tr>\n",
       "      <th>5</th>\n",
       "      <td>0</td>\n",
       "      <td>The system shall refresh the display every 60 ...</td>\n",
       "      <td>PE</td>\n",
       "      <td>Novelty</td>\n",
       "    </tr>\n",
       "    <tr>\n",
       "      <th>6</th>\n",
       "      <td>0</td>\n",
       "      <td>The system shall refresh the display every 60 ...</td>\n",
       "      <td>PE</td>\n",
       "      <td>Trust</td>\n",
       "    </tr>\n",
       "    <tr>\n",
       "      <th>7</th>\n",
       "      <td>0</td>\n",
       "      <td>The system shall refresh the display every 60 ...</td>\n",
       "      <td>PE</td>\n",
       "      <td>Adaptability</td>\n",
       "    </tr>\n",
       "    <tr>\n",
       "      <th>8</th>\n",
       "      <td>0</td>\n",
       "      <td>The system shall refresh the display every 60 ...</td>\n",
       "      <td>PE</td>\n",
       "      <td>Usefulness</td>\n",
       "    </tr>\n",
       "    <tr>\n",
       "      <th>9</th>\n",
       "      <td>0</td>\n",
       "      <td>The system shall refresh the display every 60 ...</td>\n",
       "      <td>PE</td>\n",
       "      <td>Value</td>\n",
       "    </tr>\n",
       "  </tbody>\n",
       "</table>\n",
       "</div>"
      ],
      "text/plain": [
       "   index                                       Requirements Class  \\\n",
       "0      0  The system shall refresh the display every 60 ...    PE   \n",
       "1      0  The system shall refresh the display every 60 ...    PE   \n",
       "2      0  The system shall refresh the display every 60 ...    PE   \n",
       "3      0  The system shall refresh the display every 60 ...    PE   \n",
       "4      0  The system shall refresh the display every 60 ...    PE   \n",
       "5      0  The system shall refresh the display every 60 ...    PE   \n",
       "6      0  The system shall refresh the display every 60 ...    PE   \n",
       "7      0  The system shall refresh the display every 60 ...    PE   \n",
       "8      0  The system shall refresh the display every 60 ...    PE   \n",
       "9      0  The system shall refresh the display every 60 ...    PE   \n",
       "\n",
       "           labels  \n",
       "0  Attractiveness  \n",
       "1      Efficiency  \n",
       "2     Perspicuity  \n",
       "3   Dependability  \n",
       "4     Stimulation  \n",
       "5         Novelty  \n",
       "6           Trust  \n",
       "7    Adaptability  \n",
       "8      Usefulness  \n",
       "9           Value  "
      ]
     },
     "execution_count": 16,
     "metadata": {},
     "output_type": "execute_result"
    }
   ],
   "source": [
    "\n",
    "train1.head(10)"
   ]
  },
  {
   "cell_type": "code",
   "execution_count": 16,
   "metadata": {
    "execution": {
     "iopub.execute_input": "2021-06-25T00:58:21.317898Z",
     "iopub.status.busy": "2021-06-25T00:58:21.317663Z",
     "iopub.status.idle": "2021-06-25T00:58:21.585599Z",
     "shell.execute_reply": "2021-06-25T00:58:21.584958Z",
     "shell.execute_reply.started": "2021-06-25T00:58:21.317874Z"
    },
    "id": "_Z_CTdUTMfmp"
   },
   "outputs": [],
   "source": [
    "\n",
    "train1.to_csv('train.csv',index=None)"
   ]
  },
  {
   "cell_type": "code",
   "execution_count": 52,
   "metadata": {
    "id": "0Vq9HjykQTKo"
   },
   "outputs": [],
   "source": [
    "\n",
    "train1 = pd.read_csv(data_path + 'train.csv')"
   ]
  },
  {
   "cell_type": "code",
   "execution_count": 19,
   "metadata": {
    "execution": {
     "iopub.execute_input": "2021-06-28T01:51:21.108825Z",
     "iopub.status.busy": "2021-06-28T01:51:21.108593Z",
     "iopub.status.idle": "2021-06-28T01:51:21.111547Z",
     "shell.execute_reply": "2021-06-28T01:51:21.110811Z",
     "shell.execute_reply.started": "2021-06-28T01:51:21.108800Z"
    },
    "id": "ZZ9ZKYH4NAg2"
   },
   "outputs": [],
   "source": [
    "# !pip install torch\n",
    "# !pip install transformers"
   ]
  },
  {
   "cell_type": "code",
   "execution_count": 18,
   "metadata": {
    "execution": {
     "iopub.execute_input": "2021-06-28T01:51:15.425844Z",
     "iopub.status.busy": "2021-06-28T01:51:15.425605Z",
     "iopub.status.idle": "2021-06-28T01:51:16.078178Z",
     "shell.execute_reply": "2021-06-28T01:51:16.077525Z",
     "shell.execute_reply.started": "2021-06-28T01:51:15.425815Z"
    },
    "id": "_A7YZ7x9M7q5"
   },
   "outputs": [],
   "source": [
    "\n",
    "import torch\n",
    "from tqdm.notebook import tqdm\n",
    "\n",
    "from transformers import BertTokenizer\n",
    "from torch.utils.data import TensorDataset\n",
    "\n",
    "from transformers import BertForSequenceClassification"
   ]
  },
  {
   "cell_type": "code",
   "execution_count": 20,
   "metadata": {
    "execution": {
     "iopub.execute_input": "2021-06-28T01:51:25.744603Z",
     "iopub.status.busy": "2021-06-28T01:51:25.744381Z",
     "iopub.status.idle": "2021-06-28T01:51:25.750532Z",
     "shell.execute_reply": "2021-06-28T01:51:25.749956Z",
     "shell.execute_reply.started": "2021-06-28T01:51:25.744581Z"
    },
    "id": "m6eObRY2NJ7G"
   },
   "outputs": [],
   "source": [
    "possible_labels = train1.labels.unique()\n",
    "\n",
    "label_dict = {}\n",
    "for index, possible_label in enumerate(possible_labels):\n",
    "    label_dict[possible_label] = index"
   ]
  },
  {
   "cell_type": "code",
   "execution_count": 21,
   "metadata": {
    "execution": {
     "iopub.execute_input": "2021-06-28T01:51:31.961504Z",
     "iopub.status.busy": "2021-06-28T01:51:31.961269Z",
     "iopub.status.idle": "2021-06-28T01:51:31.980467Z",
     "shell.execute_reply": "2021-06-28T01:51:31.979876Z",
     "shell.execute_reply.started": "2021-06-28T01:51:31.961479Z"
    },
    "id": "C7PRqxfJQJp6"
   },
   "outputs": [],
   "source": [
    "\n",
    "train1['label'] = train1.labels.replace(label_dict)"
   ]
  },
  {
   "cell_type": "code",
   "execution_count": 22,
   "metadata": {
    "execution": {
     "iopub.execute_input": "2021-06-28T01:51:33.090077Z",
     "iopub.status.busy": "2021-06-28T01:51:33.089849Z",
     "iopub.status.idle": "2021-06-28T01:51:33.457484Z",
     "shell.execute_reply": "2021-06-28T01:51:33.456911Z",
     "shell.execute_reply.started": "2021-06-28T01:51:33.090053Z"
    },
    "id": "XYxtYjlPODhC"
   },
   "outputs": [],
   "source": [
    "\n",
    "from sklearn.model_selection import train_test_split\n"
   ]
  },
  {
   "cell_type": "code",
   "execution_count": 23,
   "metadata": {
    "execution": {
     "iopub.execute_input": "2021-06-28T01:51:34.371625Z",
     "iopub.status.busy": "2021-06-28T01:51:34.371389Z",
     "iopub.status.idle": "2021-06-28T01:51:34.390660Z",
     "shell.execute_reply": "2021-06-28T01:51:34.390112Z",
     "shell.execute_reply.started": "2021-06-28T01:51:34.371602Z"
    },
    "id": "_hxy8YY9OK5z"
   },
   "outputs": [],
   "source": [
    "X_train, X_val, y_train, y_val = train_test_split(train1.index.values, \n",
    "                                                train1.labels.values, \n",
    "                                                  test_size=0.15, \n",
    "                                                  random_state=42, \n",
    "                                                  stratify=train1.labels.values)"
   ]
  },
  {
   "cell_type": "code",
   "execution_count": 24,
   "metadata": {
    "execution": {
     "iopub.execute_input": "2021-06-28T01:51:35.647158Z",
     "iopub.status.busy": "2021-06-28T01:51:35.646929Z",
     "iopub.status.idle": "2021-06-28T01:51:35.655182Z",
     "shell.execute_reply": "2021-06-28T01:51:35.654641Z",
     "shell.execute_reply.started": "2021-06-28T01:51:35.647134Z"
    },
    "id": "0s39wv12OrVM"
   },
   "outputs": [],
   "source": [
    "\n",
    "train1['data_type'] = ['not_set']*train1.shape[0]\n",
    "\n",
    "train1.loc[X_train, 'data_type'] = 'train'\n",
    "train1.loc[X_val, 'data_type'] = 'val'"
   ]
  },
  {
   "cell_type": "code",
   "execution_count": 25,
   "metadata": {
    "colab": {
     "base_uri": "https://localhost:8080/",
     "height": 204
    },
    "execution": {
     "iopub.execute_input": "2021-06-28T01:51:40.226820Z",
     "iopub.status.busy": "2021-06-28T01:51:40.226587Z",
     "iopub.status.idle": "2021-06-28T01:51:40.236314Z",
     "shell.execute_reply": "2021-06-28T01:51:40.235684Z",
     "shell.execute_reply.started": "2021-06-28T01:51:40.226795Z"
    },
    "id": "fs2A-MYHO81x",
    "outputId": "b32dc353-ed35-444b-f02b-6f7fe901510e"
   },
   "outputs": [
    {
     "data": {
      "text/html": [
       "<div>\n",
       "<style scoped>\n",
       "    .dataframe tbody tr th:only-of-type {\n",
       "        vertical-align: middle;\n",
       "    }\n",
       "\n",
       "    .dataframe tbody tr th {\n",
       "        vertical-align: top;\n",
       "    }\n",
       "\n",
       "    .dataframe thead th {\n",
       "        text-align: right;\n",
       "    }\n",
       "</style>\n",
       "<table border=\"1\" class=\"dataframe\">\n",
       "  <thead>\n",
       "    <tr style=\"text-align: right;\">\n",
       "      <th></th>\n",
       "      <th>index</th>\n",
       "      <th>Requirements</th>\n",
       "      <th>Class</th>\n",
       "      <th>labels</th>\n",
       "      <th>label</th>\n",
       "      <th>data_type</th>\n",
       "    </tr>\n",
       "  </thead>\n",
       "  <tbody>\n",
       "    <tr>\n",
       "      <th>0</th>\n",
       "      <td>0</td>\n",
       "      <td>The system shall refresh the display every 60 ...</td>\n",
       "      <td>PE</td>\n",
       "      <td>Attractiveness</td>\n",
       "      <td>0</td>\n",
       "      <td>val</td>\n",
       "    </tr>\n",
       "    <tr>\n",
       "      <th>1</th>\n",
       "      <td>0</td>\n",
       "      <td>The system shall refresh the display every 60 ...</td>\n",
       "      <td>PE</td>\n",
       "      <td>Efficiency</td>\n",
       "      <td>1</td>\n",
       "      <td>train</td>\n",
       "    </tr>\n",
       "    <tr>\n",
       "      <th>2</th>\n",
       "      <td>0</td>\n",
       "      <td>The system shall refresh the display every 60 ...</td>\n",
       "      <td>PE</td>\n",
       "      <td>Perspicuity</td>\n",
       "      <td>2</td>\n",
       "      <td>val</td>\n",
       "    </tr>\n",
       "    <tr>\n",
       "      <th>3</th>\n",
       "      <td>0</td>\n",
       "      <td>The system shall refresh the display every 60 ...</td>\n",
       "      <td>PE</td>\n",
       "      <td>Dependability</td>\n",
       "      <td>3</td>\n",
       "      <td>train</td>\n",
       "    </tr>\n",
       "    <tr>\n",
       "      <th>4</th>\n",
       "      <td>0</td>\n",
       "      <td>The system shall refresh the display every 60 ...</td>\n",
       "      <td>PE</td>\n",
       "      <td>Stimulation</td>\n",
       "      <td>4</td>\n",
       "      <td>train</td>\n",
       "    </tr>\n",
       "  </tbody>\n",
       "</table>\n",
       "</div>"
      ],
      "text/plain": [
       "   index                                       Requirements Class  \\\n",
       "0      0  The system shall refresh the display every 60 ...    PE   \n",
       "1      0  The system shall refresh the display every 60 ...    PE   \n",
       "2      0  The system shall refresh the display every 60 ...    PE   \n",
       "3      0  The system shall refresh the display every 60 ...    PE   \n",
       "4      0  The system shall refresh the display every 60 ...    PE   \n",
       "\n",
       "           labels  label data_type  \n",
       "0  Attractiveness      0       val  \n",
       "1      Efficiency      1     train  \n",
       "2     Perspicuity      2       val  \n",
       "3   Dependability      3     train  \n",
       "4     Stimulation      4     train  "
      ]
     },
     "execution_count": 25,
     "metadata": {},
     "output_type": "execute_result"
    }
   ],
   "source": [
    "\n",
    "train1.head()"
   ]
  },
  {
   "cell_type": "code",
   "execution_count": 26,
   "metadata": {
    "colab": {
     "base_uri": "https://localhost:8080/"
    },
    "execution": {
     "iopub.execute_input": "2021-06-28T01:51:41.395364Z",
     "iopub.status.busy": "2021-06-28T01:51:41.395119Z",
     "iopub.status.idle": "2021-06-28T01:51:51.536222Z",
     "shell.execute_reply": "2021-06-28T01:51:51.535555Z",
     "shell.execute_reply.started": "2021-06-28T01:51:41.395339Z"
    },
    "id": "l0sj8w-8OhCw",
    "outputId": "858465a4-3ea5-4057-fcb7-582cb688a515"
   },
   "outputs": [
    {
     "name": "stderr",
     "output_type": "stream",
     "text": [
      "Truncation was not explicitly activated but `max_length` is provided a specific value, please use `truncation=True` to explicitly truncate examples to max length. Defaulting to 'longest_first' truncation strategy. If you encode pairs of sequences (GLUE-style) with the tokenizer you can select this strategy more precisely by providing a specific strategy to `truncation`.\n",
      "/srv/conda/envs/saturn/lib/python3.7/site-packages/transformers/tokenization_utils_base.py:2132: FutureWarning: The `pad_to_max_length` argument is deprecated and will be removed in a future version, use `padding=True` or `padding='longest'` to pad to the longest sequence in the batch, or use `padding='max_length'` to pad to a max length. In this case, you can give a specific length with `max_length` (e.g. `max_length=45`) or leave max_length to None to pad to the maximal input size of the model (e.g. 512 for Bert).\n",
      "  FutureWarning,\n"
     ]
    }
   ],
   "source": [
    "\n",
    "tokenizer = BertTokenizer.from_pretrained('bert-base-uncased', \n",
    "                                          do_lower_case=True)\n",
    "                                          \n",
    "encoded_data_train = tokenizer.batch_encode_plus(\n",
    "    train1[train1.data_type=='train'].Requirements.values, \n",
    "    add_special_tokens=True, \n",
    "    return_attention_mask=True, \n",
    "    pad_to_max_length=True, \n",
    "    max_length=256, \n",
    "    return_tensors='pt'\n",
    ")\n",
    "\n",
    "encoded_data_val = tokenizer.batch_encode_plus(\n",
    "    train1[train1.data_type=='val'].Requirements.values, \n",
    "    add_special_tokens=True, \n",
    "    return_attention_mask=True, \n",
    "    pad_to_max_length=True, \n",
    "    max_length=256, \n",
    "    return_tensors='pt'\n",
    ")\n",
    "\n",
    "\n",
    "input_ids_train = encoded_data_train['input_ids']\n",
    "attention_masks_train = encoded_data_train['attention_mask']\n",
    "labels_train = torch.tensor(train1[train1.data_type=='train'].label.values)\n",
    "\n",
    "input_ids_val = encoded_data_val['input_ids']\n",
    "attention_masks_val = encoded_data_val['attention_mask']\n",
    "labels_val = torch.tensor(train1[train1.data_type=='val'].label.values)\n",
    "\n",
    "dataset_train = TensorDataset(input_ids_train, attention_masks_train, labels_train)\n",
    "dataset_val = TensorDataset(input_ids_val, attention_masks_val, labels_val)"
   ]
  },
  {
   "cell_type": "code",
   "execution_count": 28,
   "metadata": {
    "colab": {
     "base_uri": "https://localhost:8080/",
     "height": 220,
     "referenced_widgets": [
      "c84f3310d7b04596a5972263e10846ac",
      "e0ad07010e7946ab9e514daa68e229c9",
      "978fbf966b0f4efda9f8d7f97e23a6d4",
      "187332a1f4184125825dc60f97c16fa0",
      "c54d37100c4b4d6aae491f1078ff26dc",
      "342986a97340417299b0c782fc45c1f8",
      "ac5af448b544469bb7a37622b65fb3c0",
      "d3341b81998b45af9af2791e0790635f",
      "8d724515e8b54f7d92871bd0c837fb2c",
      "a0e68f38114540dfbd109d786917fcd3",
      "7c8551cf08e646c4b024c256b361dc9d",
      "9d1df7aacc874502ac822a05513f85ce",
      "616c8a2baa6646fd89630b3b86c2724f",
      "f0f050182ea84e42a55f08108f04ab54",
      "d28ee3c166cb4f2faf76e8f0337b271b",
      "79dba1ff5ce1492caed3629d5b8f3621"
     ]
    },
    "execution": {
     "iopub.execute_input": "2021-06-28T01:52:10.628756Z",
     "iopub.status.busy": "2021-06-28T01:52:10.628522Z",
     "iopub.status.idle": "2021-06-28T01:52:12.260619Z",
     "shell.execute_reply": "2021-06-28T01:52:12.260008Z",
     "shell.execute_reply.started": "2021-06-28T01:52:10.628733Z"
    },
    "id": "HgOm630rQ6BK",
    "outputId": "2a7593a0-cea7-4762-880f-3b73aba7e53a"
   },
   "outputs": [
    {
     "name": "stderr",
     "output_type": "stream",
     "text": [
      "Some weights of the model checkpoint at bert-base-uncased were not used when initializing BertForSequenceClassification: ['cls.predictions.transform.LayerNorm.bias', 'cls.predictions.bias', 'cls.seq_relationship.weight', 'cls.predictions.transform.LayerNorm.weight', 'cls.predictions.transform.dense.weight', 'cls.seq_relationship.bias', 'cls.predictions.transform.dense.bias', 'cls.predictions.decoder.weight']\n",
      "- This IS expected if you are initializing BertForSequenceClassification from the checkpoint of a model trained on another task or with another architecture (e.g. initializing a BertForSequenceClassification model from a BertForPreTraining model).\n",
      "- This IS NOT expected if you are initializing BertForSequenceClassification from the checkpoint of a model that you expect to be exactly identical (initializing a BertForSequenceClassification model from a BertForSequenceClassification model).\n",
      "Some weights of BertForSequenceClassification were not initialized from the model checkpoint at bert-base-uncased and are newly initialized: ['classifier.bias', 'classifier.weight']\n",
      "You should probably TRAIN this model on a down-stream task to be able to use it for predictions and inference.\n"
     ]
    }
   ],
   "source": [
    "\n",
    "model = BertForSequenceClassification.from_pretrained(\"bert-base-uncased\",\n",
    "                                                      num_labels=len(label_dict),\n",
    "                                                      output_attentions=False,\n",
    "                                                      output_hidden_states=False)"
   ]
  },
  {
   "cell_type": "code",
   "execution_count": 68,
   "metadata": {
    "execution": {
     "iopub.execute_input": "2021-06-28T01:59:44.911276Z",
     "iopub.status.busy": "2021-06-28T01:59:44.911034Z",
     "iopub.status.idle": "2021-06-28T01:59:44.915230Z",
     "shell.execute_reply": "2021-06-28T01:59:44.914546Z",
     "shell.execute_reply.started": "2021-06-28T01:59:44.911244Z"
    },
    "id": "YPTnBHsBRDHe"
   },
   "outputs": [],
   "source": [
    "\n",
    "from torch.utils.data import DataLoader, RandomSampler, SequentialSampler\n",
    "\n",
    "batch_size = 8\n",
    "\n",
    "dataloader_train = DataLoader(dataset_train, \n",
    "                              sampler=RandomSampler(dataset_train), \n",
    "                              batch_size=batch_size)\n",
    "\n",
    "dataloader_validation = DataLoader(dataset_val, \n",
    "                                   sampler=SequentialSampler(dataset_val), \n",
    "                                   batch_size=batch_size)"
   ]
  },
  {
   "cell_type": "code",
   "execution_count": 69,
   "metadata": {
    "execution": {
     "iopub.execute_input": "2021-06-28T01:59:45.662513Z",
     "iopub.status.busy": "2021-06-28T01:59:45.662258Z",
     "iopub.status.idle": "2021-06-28T01:59:45.668672Z",
     "shell.execute_reply": "2021-06-28T01:59:45.668054Z",
     "shell.execute_reply.started": "2021-06-28T01:59:45.662487Z"
    },
    "id": "NPMCt1r4RS-m"
   },
   "outputs": [],
   "source": [
    "\n",
    "from transformers import AdamW, get_linear_schedule_with_warmup\n",
    "\n",
    "optimizer = AdamW(model.parameters(),\n",
    "                  lr=1e-5, \n",
    "                  eps=1e-8)\n",
    "                  \n",
    "epochs = 5\n",
    "\n",
    "scheduler = get_linear_schedule_with_warmup(optimizer, \n",
    "                                            num_warmup_steps=0,\n",
    "                                            num_training_steps=len(dataloader_train)*epochs)"
   ]
  },
  {
   "cell_type": "code",
   "execution_count": 70,
   "metadata": {
    "execution": {
     "iopub.execute_input": "2021-06-28T01:59:46.365540Z",
     "iopub.status.busy": "2021-06-28T01:59:46.365305Z",
     "iopub.status.idle": "2021-06-28T01:59:46.371021Z",
     "shell.execute_reply": "2021-06-28T01:59:46.370264Z",
     "shell.execute_reply.started": "2021-06-28T01:59:46.365515Z"
    },
    "id": "5xfcCQgpRXl5"
   },
   "outputs": [],
   "source": [
    "\n",
    "from sklearn.metrics import f1_score\n",
    "\n",
    "def f1_score_func(preds, labels):\n",
    "    preds_flat = np.argmax(preds, axis=1).flatten()\n",
    "    labels_flat = labels.flatten()\n",
    "    return f1_score(labels_flat, preds_flat, average='weighted')\n",
    "\n",
    "def accuracy_per_class(preds, labels):\n",
    "    label_dict_inverse = {v: k for k, v in label_dict.items()}\n",
    "    \n",
    "    preds_flat = np.argmax(preds, axis=1).flatten()\n",
    "    labels_flat = labels.flatten()\n",
    "\n",
    "    for label in np.unique(labels_flat):\n",
    "        y_preds = preds_flat[labels_flat==label]\n",
    "        y_true = labels_flat[labels_flat==label]\n",
    "        print(f'Class: {label_dict_inverse[label]}')\n",
    "        print(f'Accuracy: {len(y_preds[y_preds==label])}/{len(y_true)}\\n')"
   ]
  },
  {
   "cell_type": "code",
   "execution_count": 71,
   "metadata": {
    "execution": {
     "iopub.execute_input": "2021-06-28T01:59:47.031358Z",
     "iopub.status.busy": "2021-06-28T01:59:47.031129Z",
     "iopub.status.idle": "2021-06-28T01:59:47.034979Z",
     "shell.execute_reply": "2021-06-28T01:59:47.034301Z",
     "shell.execute_reply.started": "2021-06-28T01:59:47.031335Z"
    },
    "id": "8GtV-Bl_RmXq"
   },
   "outputs": [],
   "source": [
    "\n",
    "\n",
    "import random\n",
    "import numpy as np\n",
    "\n",
    "seed_val = 17\n",
    "random.seed(seed_val)\n",
    "np.random.seed(seed_val)\n",
    "torch.manual_seed(seed_val)\n",
    "torch.cuda.manual_seed_all(seed_val)\n",
    "\n"
   ]
  },
  {
   "cell_type": "code",
   "execution_count": 72,
   "metadata": {
    "execution": {
     "iopub.execute_input": "2021-06-28T01:59:47.625227Z",
     "iopub.status.busy": "2021-06-28T01:59:47.624998Z",
     "iopub.status.idle": "2021-06-28T01:59:47.631643Z",
     "shell.execute_reply": "2021-06-28T01:59:47.631016Z",
     "shell.execute_reply.started": "2021-06-28T01:59:47.625204Z"
    },
    "id": "KZgsEdZmRuqp"
   },
   "outputs": [],
   "source": [
    "\n",
    "def evaluate(dataloader_val):\n",
    "\n",
    "    model.eval()\n",
    "    \n",
    "    loss_val_total = 0\n",
    "    predictions, true_vals = [], []\n",
    "    \n",
    "    for batch in dataloader_val:\n",
    "        \n",
    "        batch = tuple(b.to(device) for b in batch)\n",
    "        \n",
    "        inputs = {'input_ids':      batch[0],\n",
    "                  'attention_mask': batch[1],\n",
    "                  'labels':         batch[2],\n",
    "                 }\n",
    "\n",
    "        with torch.no_grad():        \n",
    "            outputs = model(**inputs)\n",
    "            \n",
    "        loss = outputs[0]\n",
    "        logits = outputs[1]\n",
    "        loss_val_total += loss.item()\n",
    "\n",
    "        logits = logits.detach().cpu().numpy()\n",
    "        label_ids = inputs['labels'].cpu().numpy()\n",
    "        predictions.append(logits)\n",
    "        true_vals.append(label_ids)\n",
    "    \n",
    "    loss_val_avg = loss_val_total/len(dataloader_val) \n",
    "    \n",
    "    predictions = np.concatenate(predictions, axis=0)\n",
    "    true_vals = np.concatenate(true_vals, axis=0)\n",
    "            \n",
    "    return loss_val_avg, predictions, true_vals\n",
    "    \n"
   ]
  },
  {
   "cell_type": "code",
   "execution_count": 73,
   "metadata": {
    "execution": {
     "iopub.execute_input": "2021-06-28T01:59:48.317531Z",
     "iopub.status.busy": "2021-06-28T01:59:48.317299Z",
     "iopub.status.idle": "2021-06-28T01:59:48.325056Z",
     "shell.execute_reply": "2021-06-28T01:59:48.324483Z",
     "shell.execute_reply.started": "2021-06-28T01:59:48.317507Z"
    }
   },
   "outputs": [
    {
     "name": "stdout",
     "output_type": "stream",
     "text": [
      "cuda\n"
     ]
    }
   ],
   "source": [
    "device = torch.device('cuda' if torch.cuda.is_available() else 'cpu')\n",
    "model.to(device)\n",
    "\n",
    "print(device)"
   ]
  },
  {
   "cell_type": "code",
   "execution_count": 75,
   "metadata": {
    "colab": {
     "base_uri": "https://localhost:8080/",
     "height": 414,
     "referenced_widgets": [
      "9ec71695ff37494d9e0fc27207dc8506",
      "3828c293af184a0eb60313625f5d300d",
      "eede2f71e8d3402fa5572faaaa5541ea",
      "b4bbf3277b96491e8e23f417e8124788",
      "79f8807cbe9c406584987618ab5cf5bf",
      "ce798c046aff4c83b6ef83d4142034e7",
      "b8ad67bd99044b3caccc3029dc9a02ee",
      "8f0ee9960c00433c8419a51a3c44555d",
      "0845df2581ee4ca2a898cd9c7c19811f",
      "0556fa12841e4db594c717c3fbfd2c94",
      "74cbb3d19c1243de9d248511460415df",
      "e4e864f4a6fb4dd589f6bb9dbd800050",
      "b46c75c5014f473080d6d120e8f0edf3",
      "ebdeecb14436422aab1ae935bfa2e7b4",
      "3116b3117e6d488caa2a61f45f0fb9f0",
      "c3b7d7285954455f9402405e3a3be130"
     ]
    },
    "execution": {
     "iopub.execute_input": "2021-06-28T02:14:49.732400Z",
     "iopub.status.busy": "2021-06-28T02:14:49.732074Z",
     "iopub.status.idle": "2021-06-28T03:20:35.884973Z",
     "shell.execute_reply": "2021-06-28T03:20:35.884202Z",
     "shell.execute_reply.started": "2021-06-28T02:14:49.732364Z"
    },
    "id": "u1tOu2oVRzbQ",
    "outputId": "818e06b1-3b8e-4436-98f2-59666c3f98d4"
   },
   "outputs": [
    {
     "data": {
      "application/vnd.jupyter.widget-view+json": {
       "model_id": "a9558ffb8e9840c9838817116aa486cc",
       "version_major": 2,
       "version_minor": 0
      },
      "text/plain": [
       "  0%|          | 0/5 [00:00<?, ?it/s]"
      ]
     },
     "metadata": {},
     "output_type": "display_data"
    },
    {
     "data": {
      "application/vnd.jupyter.widget-view+json": {
       "model_id": "",
       "version_major": 2,
       "version_minor": 0
      },
      "text/plain": [
       "Epoch 1:   0%|          | 0/2060 [00:00<?, ?it/s]"
      ]
     },
     "metadata": {},
     "output_type": "display_data"
    },
    {
     "name": "stdout",
     "output_type": "stream",
     "text": [
      "\n",
      "Epoch 1\n",
      "Training loss: 2.9986831388427215\n",
      "Validation loss: 2.9987982295371673\n",
      "F1 Score (Weighted): 0.0048035672052651746\n"
     ]
    },
    {
     "data": {
      "application/vnd.jupyter.widget-view+json": {
       "model_id": "",
       "version_major": 2,
       "version_minor": 0
      },
      "text/plain": [
       "Epoch 2:   0%|          | 0/2060 [00:00<?, ?it/s]"
      ]
     },
     "metadata": {},
     "output_type": "display_data"
    },
    {
     "name": "stdout",
     "output_type": "stream",
     "text": [
      "\n",
      "Epoch 2\n",
      "Training loss: 2.9987044050855545\n",
      "Validation loss: 2.9968443421217112\n",
      "F1 Score (Weighted): 0.004739542686541863\n"
     ]
    },
    {
     "data": {
      "application/vnd.jupyter.widget-view+json": {
       "model_id": "",
       "version_major": 2,
       "version_minor": 0
      },
      "text/plain": [
       "Epoch 3:   0%|          | 0/2060 [00:00<?, ?it/s]"
      ]
     },
     "metadata": {},
     "output_type": "display_data"
    },
    {
     "name": "stdout",
     "output_type": "stream",
     "text": [
      "\n",
      "Epoch 3\n",
      "Training loss: 2.997483926837884\n",
      "Validation loss: 2.99696874160033\n",
      "F1 Score (Weighted): 0.007214160380679435\n"
     ]
    },
    {
     "data": {
      "application/vnd.jupyter.widget-view+json": {
       "model_id": "",
       "version_major": 2,
       "version_minor": 0
      },
      "text/plain": [
       "Epoch 4:   0%|          | 0/2060 [00:00<?, ?it/s]"
      ]
     },
     "metadata": {},
     "output_type": "display_data"
    },
    {
     "name": "stdout",
     "output_type": "stream",
     "text": [
      "\n",
      "Epoch 4\n",
      "Training loss: 2.9968436623082577\n",
      "Validation loss: 2.996866920492151\n",
      "F1 Score (Weighted): 0.0057316969776035\n"
     ]
    },
    {
     "data": {
      "application/vnd.jupyter.widget-view+json": {
       "model_id": "",
       "version_major": 2,
       "version_minor": 0
      },
      "text/plain": [
       "Epoch 5:   0%|          | 0/2060 [00:00<?, ?it/s]"
      ]
     },
     "metadata": {},
     "output_type": "display_data"
    },
    {
     "name": "stdout",
     "output_type": "stream",
     "text": [
      "\n",
      "Epoch 5\n",
      "Training loss: 2.9964878358887237\n",
      "Validation loss: 2.996866920492151\n",
      "F1 Score (Weighted): 0.0057316969776035\n"
     ]
    }
   ],
   "source": [
    "\n",
    "for epoch in tqdm(range(1, epochs+1)):\n",
    "    \n",
    "    model.train()\n",
    "    \n",
    "    loss_train_total = 0\n",
    "\n",
    "    progress_bar = tqdm(dataloader_train, desc='Epoch {:1d}'.format(epoch), leave=False, disable=False)\n",
    "    for batch in progress_bar:\n",
    "\n",
    "        model.zero_grad()\n",
    "        \n",
    "        batch = tuple(b.to(device) for b in batch)\n",
    "        \n",
    "        inputs = {'input_ids':      batch[0],\n",
    "                  'attention_mask': batch[1],\n",
    "                  'labels':         batch[2],\n",
    "                 }       \n",
    "\n",
    "        outputs = model(**inputs)\n",
    "        \n",
    "        loss = outputs[0]\n",
    "        loss_train_total += loss.item()\n",
    "        loss.backward()\n",
    "\n",
    "        torch.nn.utils.clip_grad_norm_(model.parameters(), 1.0)\n",
    "\n",
    "        optimizer.step()\n",
    "        scheduler.step()\n",
    "        \n",
    "        progress_bar.set_postfix({'training_loss': '{:.3f}'.format(loss.item()/len(batch))})\n",
    "         \n",
    "        \n",
    "    torch.save(model.state_dict(), f'data_volume/finetuned_BERT_epoch_{epoch}.model')\n",
    "        \n",
    "    tqdm.write(f'\\nEpoch {epoch}')\n",
    "    \n",
    "    loss_train_avg = loss_train_total/len(dataloader_train)            \n",
    "    tqdm.write(f'Training loss: {loss_train_avg}')\n",
    "    \n",
    "    val_loss, predictions, true_vals = evaluate(dataloader_validation)\n",
    "    val_f1 = f1_score_func(predictions, true_vals)\n",
    "    tqdm.write(f'Validation loss: {val_loss}')\n",
    "    tqdm.write(f'F1 Score (Weighted): {val_f1}')"
   ]
  },
  {
   "cell_type": "code",
   "execution_count": 60,
   "metadata": {
    "execution": {
     "iopub.execute_input": "2021-06-28T01:59:05.092545Z",
     "iopub.status.busy": "2021-06-28T01:59:05.092319Z",
     "iopub.status.idle": "2021-06-28T01:59:05.095518Z",
     "shell.execute_reply": "2021-06-28T01:59:05.094840Z",
     "shell.execute_reply.started": "2021-06-28T01:59:05.092522Z"
    }
   },
   "outputs": [],
   "source": [
    "import torch\n",
    "torch.cuda.empty_cache()"
   ]
  },
  {
   "cell_type": "code",
   "execution_count": 76,
   "metadata": {
    "execution": {
     "iopub.execute_input": "2021-06-28T03:23:10.884140Z",
     "iopub.status.busy": "2021-06-28T03:23:10.883867Z",
     "iopub.status.idle": "2021-06-28T03:23:21.001896Z",
     "shell.execute_reply": "2021-06-28T03:23:21.001295Z",
     "shell.execute_reply.started": "2021-06-28T03:23:10.884116Z"
    }
   },
   "outputs": [
    {
     "name": "stderr",
     "output_type": "stream",
     "text": [
      "Truncation was not explicitly activated but `max_length` is provided a specific value, please use `truncation=True` to explicitly truncate examples to max length. Defaulting to 'longest_first' truncation strategy. If you encode pairs of sequences (GLUE-style) with the tokenizer you can select this strategy more precisely by providing a specific strategy to `truncation`.\n",
      "/srv/conda/envs/saturn/lib/python3.7/site-packages/transformers/tokenization_utils_base.py:2132: FutureWarning: The `pad_to_max_length` argument is deprecated and will be removed in a future version, use `padding=True` or `padding='longest'` to pad to the longest sequence in the batch, or use `padding='max_length'` to pad to a max length. In this case, you can give a specific length with `max_length` (e.g. `max_length=45`) or leave max_length to None to pad to the maximal input size of the model (e.g. 512 for Bert).\n",
      "  FutureWarning,\n"
     ]
    }
   ],
   "source": [
    "tokenizer = BertTokenizer.from_pretrained('bert-base-uncased', \n",
    "                                          do_lower_case=True)\n",
    "                                          \n",
    "encoded_data_train1 = tokenizer.batch_encode_plus(\n",
    "    train1.Requirements.values, \n",
    "    add_special_tokens=True, \n",
    "    return_attention_mask=True, \n",
    "    pad_to_max_length=True, \n",
    "    max_length=256, \n",
    "    return_tensors='pt'\n",
    ")\n",
    "\n",
    "input_ids_train = encoded_data_train1['input_ids']\n",
    "attention_masks_train = encoded_data_train1['attention_mask']\n",
    "labels_train = torch.tensor(train1.label.values)\n",
    "\n"
   ]
  },
  {
   "cell_type": "code",
   "execution_count": 77,
   "metadata": {
    "execution": {
     "iopub.execute_input": "2021-06-28T03:25:10.687357Z",
     "iopub.status.busy": "2021-06-28T03:25:10.687123Z",
     "iopub.status.idle": "2021-06-28T03:25:10.690504Z",
     "shell.execute_reply": "2021-06-28T03:25:10.689814Z",
     "shell.execute_reply.started": "2021-06-28T03:25:10.687334Z"
    }
   },
   "outputs": [],
   "source": [
    "dataset_train = TensorDataset(input_ids_train, attention_masks_train, labels_train)"
   ]
  },
  {
   "cell_type": "code",
   "execution_count": 78,
   "metadata": {
    "execution": {
     "iopub.execute_input": "2021-06-28T03:25:35.912102Z",
     "iopub.status.busy": "2021-06-28T03:25:35.911836Z",
     "iopub.status.idle": "2021-06-28T03:25:35.915466Z",
     "shell.execute_reply": "2021-06-28T03:25:35.914878Z",
     "shell.execute_reply.started": "2021-06-28T03:25:35.912077Z"
    }
   },
   "outputs": [],
   "source": [
    "from torch.utils.data import DataLoader, RandomSampler, SequentialSampler\n",
    "\n",
    "batch_size = 8\n",
    "\n",
    "dataloader_train = DataLoader(dataset_train, \n",
    "                              sampler=RandomSampler(dataset_train), \n",
    "                              batch_size=batch_size)"
   ]
  },
  {
   "cell_type": "code",
   "execution_count": 79,
   "metadata": {
    "execution": {
     "iopub.execute_input": "2021-06-28T03:26:25.598810Z",
     "iopub.status.busy": "2021-06-28T03:26:25.598559Z",
     "iopub.status.idle": "2021-06-28T03:26:25.602826Z",
     "shell.execute_reply": "2021-06-28T03:26:25.602143Z",
     "shell.execute_reply.started": "2021-06-28T03:26:25.598788Z"
    }
   },
   "outputs": [
    {
     "data": {
      "text/plain": [
       "<torch.utils.data.dataloader.DataLoader at 0x7fcf54235690>"
      ]
     },
     "execution_count": 79,
     "metadata": {},
     "output_type": "execute_result"
    }
   ],
   "source": [
    "dataloader_train"
   ]
  },
  {
   "cell_type": "code",
   "execution_count": 83,
   "metadata": {
    "execution": {
     "iopub.execute_input": "2021-06-28T03:27:41.542349Z",
     "iopub.status.busy": "2021-06-28T03:27:41.542115Z",
     "iopub.status.idle": "2021-06-28T03:32:42.606411Z",
     "shell.execute_reply": "2021-06-28T03:32:42.605735Z",
     "shell.execute_reply.started": "2021-06-28T03:27:41.542325Z"
    }
   },
   "outputs": [],
   "source": [
    "val_loss, predictions, true_vals = evaluate(dataloader_train)"
   ]
  },
  {
   "cell_type": "code",
   "execution_count": 92,
   "metadata": {
    "execution": {
     "iopub.execute_input": "2021-06-28T03:34:08.803102Z",
     "iopub.status.busy": "2021-06-28T03:34:08.802861Z",
     "iopub.status.idle": "2021-06-28T03:34:08.824616Z",
     "shell.execute_reply": "2021-06-28T03:34:08.823768Z",
     "shell.execute_reply.started": "2021-06-28T03:34:08.803078Z"
    }
   },
   "outputs": [],
   "source": [
    "value1 = predictions.tolist()"
   ]
  },
  {
   "cell_type": "code",
   "execution_count": 93,
   "metadata": {
    "execution": {
     "iopub.execute_input": "2021-06-28T03:34:17.553241Z",
     "iopub.status.busy": "2021-06-28T03:34:17.553013Z",
     "iopub.status.idle": "2021-06-28T03:34:17.561529Z",
     "shell.execute_reply": "2021-06-28T03:34:17.560929Z",
     "shell.execute_reply.started": "2021-06-28T03:34:17.553218Z"
    }
   },
   "outputs": [],
   "source": [
    "train1['predict'] = value1"
   ]
  },
  {
   "cell_type": "code",
   "execution_count": 97,
   "metadata": {
    "execution": {
     "iopub.execute_input": "2021-06-28T03:35:46.539566Z",
     "iopub.status.busy": "2021-06-28T03:35:46.539321Z",
     "iopub.status.idle": "2021-06-28T03:35:59.628522Z",
     "shell.execute_reply": "2021-06-28T03:35:59.627901Z",
     "shell.execute_reply.started": "2021-06-28T03:35:46.539540Z"
    }
   },
   "outputs": [],
   "source": [
    "train1['predict_bins'] = train1['predict'].apply(lambda x : (pd.cut(x,bins=7,labels=[1,2,3,4,5,6,7])).tolist())"
   ]
  },
  {
   "cell_type": "code",
   "execution_count": 95,
   "metadata": {
    "execution": {
     "iopub.execute_input": "2021-06-28T03:35:28.269360Z",
     "iopub.status.busy": "2021-06-28T03:35:28.269127Z",
     "iopub.status.idle": "2021-06-28T03:35:28.273862Z",
     "shell.execute_reply": "2021-06-28T03:35:28.273162Z",
     "shell.execute_reply.started": "2021-06-28T03:35:28.269336Z"
    }
   },
   "outputs": [],
   "source": [
    "s = train1['labels'].unique()\n",
    "s.sort()\n",
    "class1 = list(s)"
   ]
  },
  {
   "cell_type": "code",
   "execution_count": 98,
   "metadata": {
    "execution": {
     "iopub.execute_input": "2021-06-28T03:36:05.958115Z",
     "iopub.status.busy": "2021-06-28T03:36:05.957888Z",
     "iopub.status.idle": "2021-06-28T03:36:05.961712Z",
     "shell.execute_reply": "2021-06-28T03:36:05.960963Z",
     "shell.execute_reply.started": "2021-06-28T03:36:05.958092Z"
    }
   },
   "outputs": [],
   "source": [
    "def dict1(x):\n",
    "  dict1 = {}\n",
    "  for i in range(0,20):\n",
    "      dict1[class1[i]] = x[i]\n",
    "  return dict1"
   ]
  },
  {
   "cell_type": "code",
   "execution_count": 100,
   "metadata": {
    "execution": {
     "iopub.execute_input": "2021-06-28T03:36:21.656302Z",
     "iopub.status.busy": "2021-06-28T03:36:21.656067Z",
     "iopub.status.idle": "2021-06-28T03:36:21.784676Z",
     "shell.execute_reply": "2021-06-28T03:36:21.784010Z",
     "shell.execute_reply.started": "2021-06-28T03:36:21.656279Z"
    }
   },
   "outputs": [],
   "source": [
    "train1['predict_dict'] = train1['predict'].apply(lambda x : dict1(x))"
   ]
  },
  {
   "cell_type": "code",
   "execution_count": 101,
   "metadata": {
    "execution": {
     "iopub.execute_input": "2021-06-28T03:36:25.936685Z",
     "iopub.status.busy": "2021-06-28T03:36:25.936454Z",
     "iopub.status.idle": "2021-06-28T03:36:25.983687Z",
     "shell.execute_reply": "2021-06-28T03:36:25.983105Z",
     "shell.execute_reply.started": "2021-06-28T03:36:25.936661Z"
    }
   },
   "outputs": [],
   "source": [
    "train1['predict_bin_dict'] = train1['predict_bins'].apply(lambda x : dict1(x))"
   ]
  },
  {
   "cell_type": "code",
   "execution_count": 102,
   "metadata": {
    "execution": {
     "iopub.execute_input": "2021-06-28T03:36:28.020449Z",
     "iopub.status.busy": "2021-06-28T03:36:28.020219Z",
     "iopub.status.idle": "2021-06-28T03:36:28.029423Z",
     "shell.execute_reply": "2021-06-28T03:36:28.028798Z",
     "shell.execute_reply.started": "2021-06-28T03:36:28.020426Z"
    }
   },
   "outputs": [],
   "source": [
    "train3 = train1[['Requirements','Class','predict_dict']]\n",
    "train4 = train1[['Requirements','Class','predict_bin_dict']]"
   ]
  },
  {
   "cell_type": "code",
   "execution_count": 103,
   "metadata": {
    "execution": {
     "iopub.execute_input": "2021-06-28T03:36:33.518651Z",
     "iopub.status.busy": "2021-06-28T03:36:33.518420Z",
     "iopub.status.idle": "2021-06-28T03:36:33.683773Z",
     "shell.execute_reply": "2021-06-28T03:36:33.683190Z",
     "shell.execute_reply.started": "2021-06-28T03:36:33.518627Z"
    }
   },
   "outputs": [],
   "source": [
    "train3 = train3.drop('predict_dict', axis=1).join(pd.DataFrame(train3.predict_dict.values.tolist()))\n",
    "train4 = train4.drop('predict_bin_dict', axis=1).join(pd.DataFrame(train4.predict_bin_dict.values.tolist()))"
   ]
  },
  {
   "cell_type": "code",
   "execution_count": 110,
   "metadata": {
    "execution": {
     "iopub.execute_input": "2021-06-28T03:43:57.563329Z",
     "iopub.status.busy": "2021-06-28T03:43:57.563103Z",
     "iopub.status.idle": "2021-06-28T03:43:57.581171Z",
     "shell.execute_reply": "2021-06-28T03:43:57.580404Z",
     "shell.execute_reply.started": "2021-06-28T03:43:57.563306Z"
    }
   },
   "outputs": [],
   "source": [
    "train3 = train3.drop_duplicates(subset=['Requirements','Class'])\n",
    "train4 = train4.drop_duplicates(subset=['Requirements','Class'])"
   ]
  },
  {
   "cell_type": "code",
   "execution_count": 115,
   "metadata": {
    "execution": {
     "iopub.execute_input": "2021-06-28T03:45:00.176347Z",
     "iopub.status.busy": "2021-06-28T03:45:00.176113Z",
     "iopub.status.idle": "2021-06-28T03:45:00.215086Z",
     "shell.execute_reply": "2021-06-28T03:45:00.214499Z",
     "shell.execute_reply.started": "2021-06-28T03:45:00.176324Z"
    }
   },
   "outputs": [],
   "source": [
    "train3.to_csv('Prediction_scores_BERT.csv')\n",
    "train4.to_csv('Prediction_ranks_BERT.csv')"
   ]
  }
 ],
 "metadata": {
  "colab": {
   "collapsed_sections": [],
   "name": "similarity.ipynb",
   "provenance": []
  },
  "kernelspec": {
   "display_name": "Python 3",
   "language": "python",
   "name": "python3"
  },
  "language_info": {
   "codemirror_mode": {
    "name": "ipython",
    "version": 3
   },
   "file_extension": ".py",
   "mimetype": "text/x-python",
   "name": "python",
   "nbconvert_exporter": "python",
   "pygments_lexer": "ipython3",
   "version": "3.9.5"
  },
  "widgets": {
   "application/vnd.jupyter.widget-state+json": {
    "0556fa12841e4db594c717c3fbfd2c94": {
     "model_module": "@jupyter-widgets/base",
     "model_name": "LayoutModel",
     "state": {
      "_model_module": "@jupyter-widgets/base",
      "_model_module_version": "1.2.0",
      "_model_name": "LayoutModel",
      "_view_count": null,
      "_view_module": "@jupyter-widgets/base",
      "_view_module_version": "1.2.0",
      "_view_name": "LayoutView",
      "align_content": null,
      "align_items": null,
      "align_self": null,
      "border": null,
      "bottom": null,
      "display": null,
      "flex": null,
      "flex_flow": null,
      "grid_area": null,
      "grid_auto_columns": null,
      "grid_auto_flow": null,
      "grid_auto_rows": null,
      "grid_column": null,
      "grid_gap": null,
      "grid_row": null,
      "grid_template_areas": null,
      "grid_template_columns": null,
      "grid_template_rows": null,
      "height": null,
      "justify_content": null,
      "justify_items": null,
      "left": null,
      "margin": null,
      "max_height": null,
      "max_width": null,
      "min_height": null,
      "min_width": null,
      "object_fit": null,
      "object_position": null,
      "order": null,
      "overflow": null,
      "overflow_x": null,
      "overflow_y": null,
      "padding": null,
      "right": null,
      "top": null,
      "visibility": null,
      "width": null
     }
    },
    "0845df2581ee4ca2a898cd9c7c19811f": {
     "model_module": "@jupyter-widgets/controls",
     "model_name": "HBoxModel",
     "state": {
      "_dom_classes": [],
      "_model_module": "@jupyter-widgets/controls",
      "_model_module_version": "1.5.0",
      "_model_name": "HBoxModel",
      "_view_count": null,
      "_view_module": "@jupyter-widgets/controls",
      "_view_module_version": "1.5.0",
      "_view_name": "HBoxView",
      "box_style": "",
      "children": [
       "IPY_MODEL_74cbb3d19c1243de9d248511460415df",
       "IPY_MODEL_e4e864f4a6fb4dd589f6bb9dbd800050"
      ],
      "layout": "IPY_MODEL_0556fa12841e4db594c717c3fbfd2c94"
     }
    },
    "187332a1f4184125825dc60f97c16fa0": {
     "model_module": "@jupyter-widgets/controls",
     "model_name": "HTMLModel",
     "state": {
      "_dom_classes": [],
      "_model_module": "@jupyter-widgets/controls",
      "_model_module_version": "1.5.0",
      "_model_name": "HTMLModel",
      "_view_count": null,
      "_view_module": "@jupyter-widgets/controls",
      "_view_module_version": "1.5.0",
      "_view_name": "HTMLView",
      "description": "",
      "description_tooltip": null,
      "layout": "IPY_MODEL_d3341b81998b45af9af2791e0790635f",
      "placeholder": "​",
      "style": "IPY_MODEL_ac5af448b544469bb7a37622b65fb3c0",
      "value": " 570/570 [00:00&lt;00:00, 15.9kB/s]"
     }
    },
    "3116b3117e6d488caa2a61f45f0fb9f0": {
     "model_module": "@jupyter-widgets/controls",
     "model_name": "DescriptionStyleModel",
     "state": {
      "_model_module": "@jupyter-widgets/controls",
      "_model_module_version": "1.5.0",
      "_model_name": "DescriptionStyleModel",
      "_view_count": null,
      "_view_module": "@jupyter-widgets/base",
      "_view_module_version": "1.2.0",
      "_view_name": "StyleView",
      "description_width": ""
     }
    },
    "342986a97340417299b0c782fc45c1f8": {
     "model_module": "@jupyter-widgets/base",
     "model_name": "LayoutModel",
     "state": {
      "_model_module": "@jupyter-widgets/base",
      "_model_module_version": "1.2.0",
      "_model_name": "LayoutModel",
      "_view_count": null,
      "_view_module": "@jupyter-widgets/base",
      "_view_module_version": "1.2.0",
      "_view_name": "LayoutView",
      "align_content": null,
      "align_items": null,
      "align_self": null,
      "border": null,
      "bottom": null,
      "display": null,
      "flex": null,
      "flex_flow": null,
      "grid_area": null,
      "grid_auto_columns": null,
      "grid_auto_flow": null,
      "grid_auto_rows": null,
      "grid_column": null,
      "grid_gap": null,
      "grid_row": null,
      "grid_template_areas": null,
      "grid_template_columns": null,
      "grid_template_rows": null,
      "height": null,
      "justify_content": null,
      "justify_items": null,
      "left": null,
      "margin": null,
      "max_height": null,
      "max_width": null,
      "min_height": null,
      "min_width": null,
      "object_fit": null,
      "object_position": null,
      "order": null,
      "overflow": null,
      "overflow_x": null,
      "overflow_y": null,
      "padding": null,
      "right": null,
      "top": null,
      "visibility": null,
      "width": null
     }
    },
    "3828c293af184a0eb60313625f5d300d": {
     "model_module": "@jupyter-widgets/base",
     "model_name": "LayoutModel",
     "state": {
      "_model_module": "@jupyter-widgets/base",
      "_model_module_version": "1.2.0",
      "_model_name": "LayoutModel",
      "_view_count": null,
      "_view_module": "@jupyter-widgets/base",
      "_view_module_version": "1.2.0",
      "_view_name": "LayoutView",
      "align_content": null,
      "align_items": null,
      "align_self": null,
      "border": null,
      "bottom": null,
      "display": null,
      "flex": null,
      "flex_flow": null,
      "grid_area": null,
      "grid_auto_columns": null,
      "grid_auto_flow": null,
      "grid_auto_rows": null,
      "grid_column": null,
      "grid_gap": null,
      "grid_row": null,
      "grid_template_areas": null,
      "grid_template_columns": null,
      "grid_template_rows": null,
      "height": null,
      "justify_content": null,
      "justify_items": null,
      "left": null,
      "margin": null,
      "max_height": null,
      "max_width": null,
      "min_height": null,
      "min_width": null,
      "object_fit": null,
      "object_position": null,
      "order": null,
      "overflow": null,
      "overflow_x": null,
      "overflow_y": null,
      "padding": null,
      "right": null,
      "top": null,
      "visibility": null,
      "width": null
     }
    },
    "616c8a2baa6646fd89630b3b86c2724f": {
     "model_module": "@jupyter-widgets/controls",
     "model_name": "ProgressStyleModel",
     "state": {
      "_model_module": "@jupyter-widgets/controls",
      "_model_module_version": "1.5.0",
      "_model_name": "ProgressStyleModel",
      "_view_count": null,
      "_view_module": "@jupyter-widgets/base",
      "_view_module_version": "1.2.0",
      "_view_name": "StyleView",
      "bar_color": null,
      "description_width": "initial"
     }
    },
    "74cbb3d19c1243de9d248511460415df": {
     "model_module": "@jupyter-widgets/controls",
     "model_name": "FloatProgressModel",
     "state": {
      "_dom_classes": [],
      "_model_module": "@jupyter-widgets/controls",
      "_model_module_version": "1.5.0",
      "_model_name": "FloatProgressModel",
      "_view_count": null,
      "_view_module": "@jupyter-widgets/controls",
      "_view_module_version": "1.5.0",
      "_view_name": "ProgressView",
      "bar_style": "danger",
      "description": "Epoch 1:   0%",
      "description_tooltip": null,
      "layout": "IPY_MODEL_ebdeecb14436422aab1ae935bfa2e7b4",
      "max": 5491,
      "min": 0,
      "orientation": "horizontal",
      "style": "IPY_MODEL_b46c75c5014f473080d6d120e8f0edf3",
      "value": 0
     }
    },
    "79dba1ff5ce1492caed3629d5b8f3621": {
     "model_module": "@jupyter-widgets/base",
     "model_name": "LayoutModel",
     "state": {
      "_model_module": "@jupyter-widgets/base",
      "_model_module_version": "1.2.0",
      "_model_name": "LayoutModel",
      "_view_count": null,
      "_view_module": "@jupyter-widgets/base",
      "_view_module_version": "1.2.0",
      "_view_name": "LayoutView",
      "align_content": null,
      "align_items": null,
      "align_self": null,
      "border": null,
      "bottom": null,
      "display": null,
      "flex": null,
      "flex_flow": null,
      "grid_area": null,
      "grid_auto_columns": null,
      "grid_auto_flow": null,
      "grid_auto_rows": null,
      "grid_column": null,
      "grid_gap": null,
      "grid_row": null,
      "grid_template_areas": null,
      "grid_template_columns": null,
      "grid_template_rows": null,
      "height": null,
      "justify_content": null,
      "justify_items": null,
      "left": null,
      "margin": null,
      "max_height": null,
      "max_width": null,
      "min_height": null,
      "min_width": null,
      "object_fit": null,
      "object_position": null,
      "order": null,
      "overflow": null,
      "overflow_x": null,
      "overflow_y": null,
      "padding": null,
      "right": null,
      "top": null,
      "visibility": null,
      "width": null
     }
    },
    "79f8807cbe9c406584987618ab5cf5bf": {
     "model_module": "@jupyter-widgets/controls",
     "model_name": "ProgressStyleModel",
     "state": {
      "_model_module": "@jupyter-widgets/controls",
      "_model_module_version": "1.5.0",
      "_model_name": "ProgressStyleModel",
      "_view_count": null,
      "_view_module": "@jupyter-widgets/base",
      "_view_module_version": "1.2.0",
      "_view_name": "StyleView",
      "bar_color": null,
      "description_width": "initial"
     }
    },
    "7c8551cf08e646c4b024c256b361dc9d": {
     "model_module": "@jupyter-widgets/controls",
     "model_name": "FloatProgressModel",
     "state": {
      "_dom_classes": [],
      "_model_module": "@jupyter-widgets/controls",
      "_model_module_version": "1.5.0",
      "_model_name": "FloatProgressModel",
      "_view_count": null,
      "_view_module": "@jupyter-widgets/controls",
      "_view_module_version": "1.5.0",
      "_view_name": "ProgressView",
      "bar_style": "success",
      "description": "Downloading: 100%",
      "description_tooltip": null,
      "layout": "IPY_MODEL_f0f050182ea84e42a55f08108f04ab54",
      "max": 440473133,
      "min": 0,
      "orientation": "horizontal",
      "style": "IPY_MODEL_616c8a2baa6646fd89630b3b86c2724f",
      "value": 440473133
     }
    },
    "8d724515e8b54f7d92871bd0c837fb2c": {
     "model_module": "@jupyter-widgets/controls",
     "model_name": "HBoxModel",
     "state": {
      "_dom_classes": [],
      "_model_module": "@jupyter-widgets/controls",
      "_model_module_version": "1.5.0",
      "_model_name": "HBoxModel",
      "_view_count": null,
      "_view_module": "@jupyter-widgets/controls",
      "_view_module_version": "1.5.0",
      "_view_name": "HBoxView",
      "box_style": "",
      "children": [
       "IPY_MODEL_7c8551cf08e646c4b024c256b361dc9d",
       "IPY_MODEL_9d1df7aacc874502ac822a05513f85ce"
      ],
      "layout": "IPY_MODEL_a0e68f38114540dfbd109d786917fcd3"
     }
    },
    "8f0ee9960c00433c8419a51a3c44555d": {
     "model_module": "@jupyter-widgets/base",
     "model_name": "LayoutModel",
     "state": {
      "_model_module": "@jupyter-widgets/base",
      "_model_module_version": "1.2.0",
      "_model_name": "LayoutModel",
      "_view_count": null,
      "_view_module": "@jupyter-widgets/base",
      "_view_module_version": "1.2.0",
      "_view_name": "LayoutView",
      "align_content": null,
      "align_items": null,
      "align_self": null,
      "border": null,
      "bottom": null,
      "display": null,
      "flex": null,
      "flex_flow": null,
      "grid_area": null,
      "grid_auto_columns": null,
      "grid_auto_flow": null,
      "grid_auto_rows": null,
      "grid_column": null,
      "grid_gap": null,
      "grid_row": null,
      "grid_template_areas": null,
      "grid_template_columns": null,
      "grid_template_rows": null,
      "height": null,
      "justify_content": null,
      "justify_items": null,
      "left": null,
      "margin": null,
      "max_height": null,
      "max_width": null,
      "min_height": null,
      "min_width": null,
      "object_fit": null,
      "object_position": null,
      "order": null,
      "overflow": null,
      "overflow_x": null,
      "overflow_y": null,
      "padding": null,
      "right": null,
      "top": null,
      "visibility": null,
      "width": null
     }
    },
    "978fbf966b0f4efda9f8d7f97e23a6d4": {
     "model_module": "@jupyter-widgets/controls",
     "model_name": "FloatProgressModel",
     "state": {
      "_dom_classes": [],
      "_model_module": "@jupyter-widgets/controls",
      "_model_module_version": "1.5.0",
      "_model_name": "FloatProgressModel",
      "_view_count": null,
      "_view_module": "@jupyter-widgets/controls",
      "_view_module_version": "1.5.0",
      "_view_name": "ProgressView",
      "bar_style": "success",
      "description": "Downloading: 100%",
      "description_tooltip": null,
      "layout": "IPY_MODEL_342986a97340417299b0c782fc45c1f8",
      "max": 570,
      "min": 0,
      "orientation": "horizontal",
      "style": "IPY_MODEL_c54d37100c4b4d6aae491f1078ff26dc",
      "value": 570
     }
    },
    "9d1df7aacc874502ac822a05513f85ce": {
     "model_module": "@jupyter-widgets/controls",
     "model_name": "HTMLModel",
     "state": {
      "_dom_classes": [],
      "_model_module": "@jupyter-widgets/controls",
      "_model_module_version": "1.5.0",
      "_model_name": "HTMLModel",
      "_view_count": null,
      "_view_module": "@jupyter-widgets/controls",
      "_view_module_version": "1.5.0",
      "_view_name": "HTMLView",
      "description": "",
      "description_tooltip": null,
      "layout": "IPY_MODEL_79dba1ff5ce1492caed3629d5b8f3621",
      "placeholder": "​",
      "style": "IPY_MODEL_d28ee3c166cb4f2faf76e8f0337b271b",
      "value": " 440M/440M [00:10&lt;00:00, 42.9MB/s]"
     }
    },
    "9ec71695ff37494d9e0fc27207dc8506": {
     "model_module": "@jupyter-widgets/controls",
     "model_name": "HBoxModel",
     "state": {
      "_dom_classes": [],
      "_model_module": "@jupyter-widgets/controls",
      "_model_module_version": "1.5.0",
      "_model_name": "HBoxModel",
      "_view_count": null,
      "_view_module": "@jupyter-widgets/controls",
      "_view_module_version": "1.5.0",
      "_view_name": "HBoxView",
      "box_style": "",
      "children": [
       "IPY_MODEL_eede2f71e8d3402fa5572faaaa5541ea",
       "IPY_MODEL_b4bbf3277b96491e8e23f417e8124788"
      ],
      "layout": "IPY_MODEL_3828c293af184a0eb60313625f5d300d"
     }
    },
    "a0e68f38114540dfbd109d786917fcd3": {
     "model_module": "@jupyter-widgets/base",
     "model_name": "LayoutModel",
     "state": {
      "_model_module": "@jupyter-widgets/base",
      "_model_module_version": "1.2.0",
      "_model_name": "LayoutModel",
      "_view_count": null,
      "_view_module": "@jupyter-widgets/base",
      "_view_module_version": "1.2.0",
      "_view_name": "LayoutView",
      "align_content": null,
      "align_items": null,
      "align_self": null,
      "border": null,
      "bottom": null,
      "display": null,
      "flex": null,
      "flex_flow": null,
      "grid_area": null,
      "grid_auto_columns": null,
      "grid_auto_flow": null,
      "grid_auto_rows": null,
      "grid_column": null,
      "grid_gap": null,
      "grid_row": null,
      "grid_template_areas": null,
      "grid_template_columns": null,
      "grid_template_rows": null,
      "height": null,
      "justify_content": null,
      "justify_items": null,
      "left": null,
      "margin": null,
      "max_height": null,
      "max_width": null,
      "min_height": null,
      "min_width": null,
      "object_fit": null,
      "object_position": null,
      "order": null,
      "overflow": null,
      "overflow_x": null,
      "overflow_y": null,
      "padding": null,
      "right": null,
      "top": null,
      "visibility": null,
      "width": null
     }
    },
    "ac5af448b544469bb7a37622b65fb3c0": {
     "model_module": "@jupyter-widgets/controls",
     "model_name": "DescriptionStyleModel",
     "state": {
      "_model_module": "@jupyter-widgets/controls",
      "_model_module_version": "1.5.0",
      "_model_name": "DescriptionStyleModel",
      "_view_count": null,
      "_view_module": "@jupyter-widgets/base",
      "_view_module_version": "1.2.0",
      "_view_name": "StyleView",
      "description_width": ""
     }
    },
    "b46c75c5014f473080d6d120e8f0edf3": {
     "model_module": "@jupyter-widgets/controls",
     "model_name": "ProgressStyleModel",
     "state": {
      "_model_module": "@jupyter-widgets/controls",
      "_model_module_version": "1.5.0",
      "_model_name": "ProgressStyleModel",
      "_view_count": null,
      "_view_module": "@jupyter-widgets/base",
      "_view_module_version": "1.2.0",
      "_view_name": "StyleView",
      "bar_color": null,
      "description_width": "initial"
     }
    },
    "b4bbf3277b96491e8e23f417e8124788": {
     "model_module": "@jupyter-widgets/controls",
     "model_name": "HTMLModel",
     "state": {
      "_dom_classes": [],
      "_model_module": "@jupyter-widgets/controls",
      "_model_module_version": "1.5.0",
      "_model_name": "HTMLModel",
      "_view_count": null,
      "_view_module": "@jupyter-widgets/controls",
      "_view_module_version": "1.5.0",
      "_view_name": "HTMLView",
      "description": "",
      "description_tooltip": null,
      "layout": "IPY_MODEL_8f0ee9960c00433c8419a51a3c44555d",
      "placeholder": "​",
      "style": "IPY_MODEL_b8ad67bd99044b3caccc3029dc9a02ee",
      "value": " 0/5 [00:00&lt;?, ?it/s]"
     }
    },
    "b8ad67bd99044b3caccc3029dc9a02ee": {
     "model_module": "@jupyter-widgets/controls",
     "model_name": "DescriptionStyleModel",
     "state": {
      "_model_module": "@jupyter-widgets/controls",
      "_model_module_version": "1.5.0",
      "_model_name": "DescriptionStyleModel",
      "_view_count": null,
      "_view_module": "@jupyter-widgets/base",
      "_view_module_version": "1.2.0",
      "_view_name": "StyleView",
      "description_width": ""
     }
    },
    "c3b7d7285954455f9402405e3a3be130": {
     "model_module": "@jupyter-widgets/base",
     "model_name": "LayoutModel",
     "state": {
      "_model_module": "@jupyter-widgets/base",
      "_model_module_version": "1.2.0",
      "_model_name": "LayoutModel",
      "_view_count": null,
      "_view_module": "@jupyter-widgets/base",
      "_view_module_version": "1.2.0",
      "_view_name": "LayoutView",
      "align_content": null,
      "align_items": null,
      "align_self": null,
      "border": null,
      "bottom": null,
      "display": null,
      "flex": null,
      "flex_flow": null,
      "grid_area": null,
      "grid_auto_columns": null,
      "grid_auto_flow": null,
      "grid_auto_rows": null,
      "grid_column": null,
      "grid_gap": null,
      "grid_row": null,
      "grid_template_areas": null,
      "grid_template_columns": null,
      "grid_template_rows": null,
      "height": null,
      "justify_content": null,
      "justify_items": null,
      "left": null,
      "margin": null,
      "max_height": null,
      "max_width": null,
      "min_height": null,
      "min_width": null,
      "object_fit": null,
      "object_position": null,
      "order": null,
      "overflow": null,
      "overflow_x": null,
      "overflow_y": null,
      "padding": null,
      "right": null,
      "top": null,
      "visibility": null,
      "width": null
     }
    },
    "c54d37100c4b4d6aae491f1078ff26dc": {
     "model_module": "@jupyter-widgets/controls",
     "model_name": "ProgressStyleModel",
     "state": {
      "_model_module": "@jupyter-widgets/controls",
      "_model_module_version": "1.5.0",
      "_model_name": "ProgressStyleModel",
      "_view_count": null,
      "_view_module": "@jupyter-widgets/base",
      "_view_module_version": "1.2.0",
      "_view_name": "StyleView",
      "bar_color": null,
      "description_width": "initial"
     }
    },
    "c84f3310d7b04596a5972263e10846ac": {
     "model_module": "@jupyter-widgets/controls",
     "model_name": "HBoxModel",
     "state": {
      "_dom_classes": [],
      "_model_module": "@jupyter-widgets/controls",
      "_model_module_version": "1.5.0",
      "_model_name": "HBoxModel",
      "_view_count": null,
      "_view_module": "@jupyter-widgets/controls",
      "_view_module_version": "1.5.0",
      "_view_name": "HBoxView",
      "box_style": "",
      "children": [
       "IPY_MODEL_978fbf966b0f4efda9f8d7f97e23a6d4",
       "IPY_MODEL_187332a1f4184125825dc60f97c16fa0"
      ],
      "layout": "IPY_MODEL_e0ad07010e7946ab9e514daa68e229c9"
     }
    },
    "ce798c046aff4c83b6ef83d4142034e7": {
     "model_module": "@jupyter-widgets/base",
     "model_name": "LayoutModel",
     "state": {
      "_model_module": "@jupyter-widgets/base",
      "_model_module_version": "1.2.0",
      "_model_name": "LayoutModel",
      "_view_count": null,
      "_view_module": "@jupyter-widgets/base",
      "_view_module_version": "1.2.0",
      "_view_name": "LayoutView",
      "align_content": null,
      "align_items": null,
      "align_self": null,
      "border": null,
      "bottom": null,
      "display": null,
      "flex": null,
      "flex_flow": null,
      "grid_area": null,
      "grid_auto_columns": null,
      "grid_auto_flow": null,
      "grid_auto_rows": null,
      "grid_column": null,
      "grid_gap": null,
      "grid_row": null,
      "grid_template_areas": null,
      "grid_template_columns": null,
      "grid_template_rows": null,
      "height": null,
      "justify_content": null,
      "justify_items": null,
      "left": null,
      "margin": null,
      "max_height": null,
      "max_width": null,
      "min_height": null,
      "min_width": null,
      "object_fit": null,
      "object_position": null,
      "order": null,
      "overflow": null,
      "overflow_x": null,
      "overflow_y": null,
      "padding": null,
      "right": null,
      "top": null,
      "visibility": null,
      "width": null
     }
    },
    "d28ee3c166cb4f2faf76e8f0337b271b": {
     "model_module": "@jupyter-widgets/controls",
     "model_name": "DescriptionStyleModel",
     "state": {
      "_model_module": "@jupyter-widgets/controls",
      "_model_module_version": "1.5.0",
      "_model_name": "DescriptionStyleModel",
      "_view_count": null,
      "_view_module": "@jupyter-widgets/base",
      "_view_module_version": "1.2.0",
      "_view_name": "StyleView",
      "description_width": ""
     }
    },
    "d3341b81998b45af9af2791e0790635f": {
     "model_module": "@jupyter-widgets/base",
     "model_name": "LayoutModel",
     "state": {
      "_model_module": "@jupyter-widgets/base",
      "_model_module_version": "1.2.0",
      "_model_name": "LayoutModel",
      "_view_count": null,
      "_view_module": "@jupyter-widgets/base",
      "_view_module_version": "1.2.0",
      "_view_name": "LayoutView",
      "align_content": null,
      "align_items": null,
      "align_self": null,
      "border": null,
      "bottom": null,
      "display": null,
      "flex": null,
      "flex_flow": null,
      "grid_area": null,
      "grid_auto_columns": null,
      "grid_auto_flow": null,
      "grid_auto_rows": null,
      "grid_column": null,
      "grid_gap": null,
      "grid_row": null,
      "grid_template_areas": null,
      "grid_template_columns": null,
      "grid_template_rows": null,
      "height": null,
      "justify_content": null,
      "justify_items": null,
      "left": null,
      "margin": null,
      "max_height": null,
      "max_width": null,
      "min_height": null,
      "min_width": null,
      "object_fit": null,
      "object_position": null,
      "order": null,
      "overflow": null,
      "overflow_x": null,
      "overflow_y": null,
      "padding": null,
      "right": null,
      "top": null,
      "visibility": null,
      "width": null
     }
    },
    "e0ad07010e7946ab9e514daa68e229c9": {
     "model_module": "@jupyter-widgets/base",
     "model_name": "LayoutModel",
     "state": {
      "_model_module": "@jupyter-widgets/base",
      "_model_module_version": "1.2.0",
      "_model_name": "LayoutModel",
      "_view_count": null,
      "_view_module": "@jupyter-widgets/base",
      "_view_module_version": "1.2.0",
      "_view_name": "LayoutView",
      "align_content": null,
      "align_items": null,
      "align_self": null,
      "border": null,
      "bottom": null,
      "display": null,
      "flex": null,
      "flex_flow": null,
      "grid_area": null,
      "grid_auto_columns": null,
      "grid_auto_flow": null,
      "grid_auto_rows": null,
      "grid_column": null,
      "grid_gap": null,
      "grid_row": null,
      "grid_template_areas": null,
      "grid_template_columns": null,
      "grid_template_rows": null,
      "height": null,
      "justify_content": null,
      "justify_items": null,
      "left": null,
      "margin": null,
      "max_height": null,
      "max_width": null,
      "min_height": null,
      "min_width": null,
      "object_fit": null,
      "object_position": null,
      "order": null,
      "overflow": null,
      "overflow_x": null,
      "overflow_y": null,
      "padding": null,
      "right": null,
      "top": null,
      "visibility": null,
      "width": null
     }
    },
    "e4e864f4a6fb4dd589f6bb9dbd800050": {
     "model_module": "@jupyter-widgets/controls",
     "model_name": "HTMLModel",
     "state": {
      "_dom_classes": [],
      "_model_module": "@jupyter-widgets/controls",
      "_model_module_version": "1.5.0",
      "_model_name": "HTMLModel",
      "_view_count": null,
      "_view_module": "@jupyter-widgets/controls",
      "_view_module_version": "1.5.0",
      "_view_name": "HTMLView",
      "description": "",
      "description_tooltip": null,
      "layout": "IPY_MODEL_c3b7d7285954455f9402405e3a3be130",
      "placeholder": "​",
      "style": "IPY_MODEL_3116b3117e6d488caa2a61f45f0fb9f0",
      "value": " 0/5491 [00:00&lt;?, ?it/s]"
     }
    },
    "ebdeecb14436422aab1ae935bfa2e7b4": {
     "model_module": "@jupyter-widgets/base",
     "model_name": "LayoutModel",
     "state": {
      "_model_module": "@jupyter-widgets/base",
      "_model_module_version": "1.2.0",
      "_model_name": "LayoutModel",
      "_view_count": null,
      "_view_module": "@jupyter-widgets/base",
      "_view_module_version": "1.2.0",
      "_view_name": "LayoutView",
      "align_content": null,
      "align_items": null,
      "align_self": null,
      "border": null,
      "bottom": null,
      "display": null,
      "flex": null,
      "flex_flow": null,
      "grid_area": null,
      "grid_auto_columns": null,
      "grid_auto_flow": null,
      "grid_auto_rows": null,
      "grid_column": null,
      "grid_gap": null,
      "grid_row": null,
      "grid_template_areas": null,
      "grid_template_columns": null,
      "grid_template_rows": null,
      "height": null,
      "justify_content": null,
      "justify_items": null,
      "left": null,
      "margin": null,
      "max_height": null,
      "max_width": null,
      "min_height": null,
      "min_width": null,
      "object_fit": null,
      "object_position": null,
      "order": null,
      "overflow": null,
      "overflow_x": null,
      "overflow_y": null,
      "padding": null,
      "right": null,
      "top": null,
      "visibility": null,
      "width": null
     }
    },
    "eede2f71e8d3402fa5572faaaa5541ea": {
     "model_module": "@jupyter-widgets/controls",
     "model_name": "FloatProgressModel",
     "state": {
      "_dom_classes": [],
      "_model_module": "@jupyter-widgets/controls",
      "_model_module_version": "1.5.0",
      "_model_name": "FloatProgressModel",
      "_view_count": null,
      "_view_module": "@jupyter-widgets/controls",
      "_view_module_version": "1.5.0",
      "_view_name": "ProgressView",
      "bar_style": "danger",
      "description": "  0%",
      "description_tooltip": null,
      "layout": "IPY_MODEL_ce798c046aff4c83b6ef83d4142034e7",
      "max": 5,
      "min": 0,
      "orientation": "horizontal",
      "style": "IPY_MODEL_79f8807cbe9c406584987618ab5cf5bf",
      "value": 0
     }
    },
    "f0f050182ea84e42a55f08108f04ab54": {
     "model_module": "@jupyter-widgets/base",
     "model_name": "LayoutModel",
     "state": {
      "_model_module": "@jupyter-widgets/base",
      "_model_module_version": "1.2.0",
      "_model_name": "LayoutModel",
      "_view_count": null,
      "_view_module": "@jupyter-widgets/base",
      "_view_module_version": "1.2.0",
      "_view_name": "LayoutView",
      "align_content": null,
      "align_items": null,
      "align_self": null,
      "border": null,
      "bottom": null,
      "display": null,
      "flex": null,
      "flex_flow": null,
      "grid_area": null,
      "grid_auto_columns": null,
      "grid_auto_flow": null,
      "grid_auto_rows": null,
      "grid_column": null,
      "grid_gap": null,
      "grid_row": null,
      "grid_template_areas": null,
      "grid_template_columns": null,
      "grid_template_rows": null,
      "height": null,
      "justify_content": null,
      "justify_items": null,
      "left": null,
      "margin": null,
      "max_height": null,
      "max_width": null,
      "min_height": null,
      "min_width": null,
      "object_fit": null,
      "object_position": null,
      "order": null,
      "overflow": null,
      "overflow_x": null,
      "overflow_y": null,
      "padding": null,
      "right": null,
      "top": null,
      "visibility": null,
      "width": null
     }
    }
   }
  }
 },
 "nbformat": 4,
 "nbformat_minor": 4
}
