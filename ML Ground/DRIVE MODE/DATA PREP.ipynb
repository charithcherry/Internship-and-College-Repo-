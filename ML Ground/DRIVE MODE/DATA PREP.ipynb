{
 "cells": [
  {
   "cell_type": "code",
   "execution_count": 1,
   "id": "441e0c92",
   "metadata": {},
   "outputs": [],
   "source": [
    "import cv2\n",
    "import os\n",
    "import time\n",
    "import uuid"
   ]
  },
  {
   "cell_type": "code",
   "execution_count": 2,
   "id": "09300f3e",
   "metadata": {},
   "outputs": [],
   "source": [
    "IMG_PATH='/collectedimages'"
   ]
  },
  {
   "cell_type": "code",
   "execution_count": 4,
   "id": "42e34beb",
   "metadata": {},
   "outputs": [],
   "source": [
    "labels=['awake','phoneear','phone']\n",
    "number_imgs=551"
   ]
  },
  {
   "cell_type": "code",
   "execution_count": 5,
   "id": "8da6bc16",
   "metadata": {},
   "outputs": [
    {
     "name": "stdout",
     "output_type": "stream",
     "text": [
      "collecting images for awake\n",
      "collecting images for phoneear\n",
      "collecting images for phone\n"
     ]
    }
   ],
   "source": [
    "for label in labels:\n",
    "    !mkdir {'collectedimages\\\\'+label}\n",
    "    cap=cv2.VideoCapture(0)\n",
    "    print('collecting images for {}'.format(label))\n",
    "    time.sleep(5)\n",
    "    for imgnum in range(500,number_imgs):\n",
    "        ret,frame=cap.read()\n",
    "        imgname='collectedimages\\\\'+label+'\\\\'+label+'.'+'{}.jpg'.format(str(imgnum))\n",
    "        cv2.imwrite(imgname,frame)\n",
    "        cv2.imshow('frame',frame\n",
    "                  \n",
    "                  )\n",
    "        time.sleep(2)\n",
    "        \n",
    "#         if imgnum%50==0:\n",
    "#             print(\"change position for {} {}\".format(label,imgnum))\n",
    "#             time.sleep(5)\n",
    "        if cv2.waitKey(1) & 0xFF == ord('q'):\n",
    "            break\n",
    "    cap.release()"
   ]
  },
  {
   "cell_type": "code",
   "execution_count": null,
   "id": "cc3d0cc0",
   "metadata": {},
   "outputs": [],
   "source": []
  }
 ],
 "metadata": {
  "kernelspec": {
   "display_name": "Python 3",
   "language": "python",
   "name": "python3"
  },
  "language_info": {
   "codemirror_mode": {
    "name": "ipython",
    "version": 3
   },
   "file_extension": ".py",
   "mimetype": "text/x-python",
   "name": "python",
   "nbconvert_exporter": "python",
   "pygments_lexer": "ipython3",
   "version": "3.9.5"
  }
 },
 "nbformat": 4,
 "nbformat_minor": 5
}
