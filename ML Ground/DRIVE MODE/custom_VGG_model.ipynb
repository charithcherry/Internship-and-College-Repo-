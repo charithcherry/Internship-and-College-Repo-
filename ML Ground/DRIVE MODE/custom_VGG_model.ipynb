{
 "cells": [
  {
   "cell_type": "code",
   "execution_count": 1,
   "id": "ac630ec8",
   "metadata": {},
   "outputs": [],
   "source": [
    "import os\n",
    "import tensorflow as tf\n",
    "from tensorflow import keras\n",
    "from tensorflow.keras import layers\n",
    "from tensorflow.keras import Model\n",
    "from tensorflow.keras.preprocessing.image import ImageDataGenerator, img_to_array, load_img, array_to_img\n",
    "import zipfile\n",
    "import matplotlib.pyplot as plt\n",
    "import numpy as np\n",
    "import pandas as pd\n",
    "from PIL import ImageFile\n",
    "ImageFile.LOAD_TRUNCATED_IMAGES = True\n",
    "import shutil\n",
    "from tensorflow.keras.applications import VGG19\n",
    "\n",
    "\n",
    "from sklearn.metrics import classification_report, confusion_matrix\n",
    "\n",
    "import seaborn as sns"
   ]
  },
  {
   "cell_type": "code",
   "execution_count": 2,
   "id": "52d46cfd",
   "metadata": {},
   "outputs": [],
   "source": [
    "train_datagen=ImageDataGenerator(rescale=1./255,horizontal_flip=True)\n",
    "valid_datagen=ImageDataGenerator(rescale=1./255)"
   ]
  },
  {
   "cell_type": "code",
   "execution_count": 3,
   "id": "8966ca18",
   "metadata": {},
   "outputs": [
    {
     "name": "stdout",
     "output_type": "stream",
     "text": [
      "Found 761 images belonging to 3 classes.\n",
      "Found 182 images belonging to 3 classes.\n"
     ]
    }
   ],
   "source": [
    "train_generator = train_datagen.flow_from_directory(directory=r'./DATASET/TRAIN',\n",
    "                                                   batch_size=16,\n",
    "                                            class_mode='categorical',\n",
    "                                            target_size=(150, 150),\n",
    "                                                    shuffle=True)\n",
    "\n",
    "\n",
    "valid_generator = valid_datagen.flow_from_directory(directory=r'./DATASET/TEST',\n",
    "                                                    batch_size=16,\n",
    "                                            class_mode='categorical',\n",
    "                                                target_size=(150, 150),\n",
    "                                                    shuffle=False)"
   ]
  },
  {
   "cell_type": "code",
   "execution_count": 4,
   "id": "28849748",
   "metadata": {},
   "outputs": [
    {
     "name": "stdout",
     "output_type": "stream",
     "text": [
      "['awake', 'phone', 'phoneear']\n",
      "[269, 241, 251]\n"
     ]
    }
   ],
   "source": [
    "labels = []\n",
    "train_counts = []\n",
    "for dirname in os.listdir('./DATASET/TRAIN'):\n",
    "    labels.append(dirname)\n",
    "    image_count = 0\n",
    "    for img in os.listdir(os.path.join('./DATASET/TRAIN',dirname)):\n",
    "        image_count +=1\n",
    "    train_counts.append(image_count)\n",
    "print(labels)\n",
    "print(train_counts)"
   ]
  },
  {
   "cell_type": "code",
   "execution_count": 5,
   "id": "dc3dad00",
   "metadata": {},
   "outputs": [
    {
     "name": "stdout",
     "output_type": "stream",
     "text": [
      "{0: 0.94, 1: 1.05, 2: 1.01}\n"
     ]
    }
   ],
   "source": [
    "class_weights = []\n",
    "total_samples = train_generator.samples\n",
    "total_classes = len(train_generator.class_indices)\n",
    "for ele in train_counts:\n",
    "    result = round(total_samples / (total_classes * ele),2)\n",
    "    class_weights.append(result)\n",
    "\n",
    "class_weights = dict(zip(train_generator.class_indices.values(),class_weights))\n",
    "print(class_weights)"
   ]
  },
  {
   "cell_type": "code",
   "execution_count": 6,
   "id": "9df2849a",
   "metadata": {},
   "outputs": [],
   "source": [
    "tf.keras.backend.clear_session()\n",
    "tf.random.set_seed(42)\n",
    "np.random.seed(42)"
   ]
  },
  {
   "cell_type": "code",
   "execution_count": 7,
   "id": "8f88a1e6",
   "metadata": {},
   "outputs": [],
   "source": [
    "def custom_model():\n",
    "    \n",
    "    \n",
    "    cus_model = VGG19(input_shape = (150,150,3),        \n",
    "                         weights='imagenet', \n",
    "                         include_top= False,)\n",
    "    \n",
    "   #Using pre-trained weights from imagenet \n",
    "    for layer in cus_model.layers:\n",
    "        layer.trainable = False\n",
    "\n",
    "    # Adding layers in a sequential manner\n",
    "    x = layers.Flatten()(cus_model.output)\n",
    "\n",
    "    x = layers.Dense(512, activation='relu')(x)\n",
    "    \n",
    "    x = layers.Dropout(0.2)(x)\n",
    " \n",
    "    x = layers.Dense(3, activation='softmax')(x)\n",
    "\n",
    "    model = Model(cus_model.input,x)\n",
    "    \n",
    "    return model"
   ]
  },
  {
   "cell_type": "code",
   "execution_count": 8,
   "id": "c75b9433",
   "metadata": {},
   "outputs": [
    {
     "name": "stdout",
     "output_type": "stream",
     "text": [
      "Model: \"model\"\n",
      "_________________________________________________________________\n",
      "Layer (type)                 Output Shape              Param #   \n",
      "=================================================================\n",
      "input_1 (InputLayer)         [(None, 150, 150, 3)]     0         \n",
      "_________________________________________________________________\n",
      "block1_conv1 (Conv2D)        (None, 150, 150, 64)      1792      \n",
      "_________________________________________________________________\n",
      "block1_conv2 (Conv2D)        (None, 150, 150, 64)      36928     \n",
      "_________________________________________________________________\n",
      "block1_pool (MaxPooling2D)   (None, 75, 75, 64)        0         \n",
      "_________________________________________________________________\n",
      "block2_conv1 (Conv2D)        (None, 75, 75, 128)       73856     \n",
      "_________________________________________________________________\n",
      "block2_conv2 (Conv2D)        (None, 75, 75, 128)       147584    \n",
      "_________________________________________________________________\n",
      "block2_pool (MaxPooling2D)   (None, 37, 37, 128)       0         \n",
      "_________________________________________________________________\n",
      "block3_conv1 (Conv2D)        (None, 37, 37, 256)       295168    \n",
      "_________________________________________________________________\n",
      "block3_conv2 (Conv2D)        (None, 37, 37, 256)       590080    \n",
      "_________________________________________________________________\n",
      "block3_conv3 (Conv2D)        (None, 37, 37, 256)       590080    \n",
      "_________________________________________________________________\n",
      "block3_conv4 (Conv2D)        (None, 37, 37, 256)       590080    \n",
      "_________________________________________________________________\n",
      "block3_pool (MaxPooling2D)   (None, 18, 18, 256)       0         \n",
      "_________________________________________________________________\n",
      "block4_conv1 (Conv2D)        (None, 18, 18, 512)       1180160   \n",
      "_________________________________________________________________\n",
      "block4_conv2 (Conv2D)        (None, 18, 18, 512)       2359808   \n",
      "_________________________________________________________________\n",
      "block4_conv3 (Conv2D)        (None, 18, 18, 512)       2359808   \n",
      "_________________________________________________________________\n",
      "block4_conv4 (Conv2D)        (None, 18, 18, 512)       2359808   \n",
      "_________________________________________________________________\n",
      "block4_pool (MaxPooling2D)   (None, 9, 9, 512)         0         \n",
      "_________________________________________________________________\n",
      "block5_conv1 (Conv2D)        (None, 9, 9, 512)         2359808   \n",
      "_________________________________________________________________\n",
      "block5_conv2 (Conv2D)        (None, 9, 9, 512)         2359808   \n",
      "_________________________________________________________________\n",
      "block5_conv3 (Conv2D)        (None, 9, 9, 512)         2359808   \n",
      "_________________________________________________________________\n",
      "block5_conv4 (Conv2D)        (None, 9, 9, 512)         2359808   \n",
      "_________________________________________________________________\n",
      "block5_pool (MaxPooling2D)   (None, 4, 4, 512)         0         \n",
      "_________________________________________________________________\n",
      "flatten (Flatten)            (None, 8192)              0         \n",
      "_________________________________________________________________\n",
      "dense (Dense)                (None, 512)               4194816   \n",
      "_________________________________________________________________\n",
      "dropout (Dropout)            (None, 512)               0         \n",
      "_________________________________________________________________\n",
      "dense_1 (Dense)              (None, 3)                 1539      \n",
      "=================================================================\n",
      "Total params: 24,220,739\n",
      "Trainable params: 4,196,355\n",
      "Non-trainable params: 20,024,384\n",
      "_________________________________________________________________\n"
     ]
    }
   ],
   "source": [
    "model = custom_model()\n",
    "model.summary()"
   ]
  },
  {
   "cell_type": "code",
   "execution_count": 9,
   "id": "a9da676a",
   "metadata": {},
   "outputs": [],
   "source": [
    "def exponential_decay(lr0, s):\n",
    "    def exponential_decay_fn(epoch):\n",
    "        return lr0 * 0.1 ** (epoch / s)\n",
    "\n",
    "    return exponential_decay_fn\n",
    "\n",
    "\n",
    "exponential_decay_fn = exponential_decay(lr0=0.0009, s=5)\n",
    "\n",
    "lr_scheduler_ed = keras.callbacks.LearningRateScheduler(exponential_decay_fn)\n",
    "\n",
    "\n",
    "early_stopping_m = keras.callbacks.EarlyStopping(monitor='val_loss', mode='min', verbose=1, patience=5)"
   ]
  },
  {
   "cell_type": "code",
   "execution_count": 10,
   "id": "1ba43cbb",
   "metadata": {},
   "outputs": [],
   "source": [
    "model.compile(optimizer='adam',\n",
    "              loss='categorical_crossentropy',\n",
    "              metrics=['accuracy'])"
   ]
  },
  {
   "cell_type": "code",
   "execution_count": 11,
   "id": "7d3d986f",
   "metadata": {},
   "outputs": [
    {
     "name": "stdout",
     "output_type": "stream",
     "text": [
      "Epoch 1/30\n",
      "48/48 [==============================] - 39s 808ms/step - loss: 1.0536 - accuracy: 0.6938 - val_loss: 0.6360 - val_accuracy: 0.6923\n",
      "Epoch 2/30\n",
      "48/48 [==============================] - 45s 943ms/step - loss: 0.1780 - accuracy: 0.9343 - val_loss: 0.5673 - val_accuracy: 0.7527\n",
      "Epoch 3/30\n",
      "48/48 [==============================] - 43s 905ms/step - loss: 0.1092 - accuracy: 0.9671 - val_loss: 0.4079 - val_accuracy: 0.8187\n",
      "Epoch 4/30\n",
      "48/48 [==============================] - 44s 909ms/step - loss: 0.0786 - accuracy: 0.9803 - val_loss: 0.3561 - val_accuracy: 0.8791\n",
      "Epoch 5/30\n",
      "48/48 [==============================] - 43s 907ms/step - loss: 0.0734 - accuracy: 0.9816 - val_loss: 0.3662 - val_accuracy: 0.8297\n",
      "Epoch 6/30\n",
      "48/48 [==============================] - 44s 911ms/step - loss: 0.0691 - accuracy: 0.9829 - val_loss: 0.3577 - val_accuracy: 0.8462\n",
      "Epoch 7/30\n",
      "48/48 [==============================] - 43s 908ms/step - loss: 0.0541 - accuracy: 0.9882 - val_loss: 0.3594 - val_accuracy: 0.8681\n",
      "Epoch 8/30\n",
      "48/48 [==============================] - 44s 912ms/step - loss: 0.0559 - accuracy: 0.9855 - val_loss: 0.3779 - val_accuracy: 0.8297\n",
      "Epoch 9/30\n",
      "48/48 [==============================] - 44s 909ms/step - loss: 0.0505 - accuracy: 0.9908 - val_loss: 0.3811 - val_accuracy: 0.8462\n",
      "Epoch 00009: early stopping\n"
     ]
    }
   ],
   "source": [
    "history = model.fit(train_generator,\n",
    "                    validation_data=valid_generator,\n",
    "                    epochs=30,\n",
    "                    batch_size=32,\n",
    "                    callbacks=[lr_scheduler_ed, early_stopping_m],\n",
    "                    verbose=1\n",
    "                    )"
   ]
  },
  {
   "cell_type": "code",
   "execution_count": 12,
   "id": "3a7b749a",
   "metadata": {},
   "outputs": [
    {
     "data": {
      "text/plain": [
       "<Figure size 432x288 with 0 Axes>"
      ]
     },
     "execution_count": 12,
     "metadata": {},
     "output_type": "execute_result"
    },
    {
     "data": {
      "image/png": "[encoded data removed]",
      "text/plain": [
       "<Figure size 432x288 with 1 Axes>"
      ]
     },
     "metadata": {
      "needs_background": "light"
     },
     "output_type": "display_data"
    },
    {
     "data": {
      "text/plain": [
       "<Figure size 432x288 with 0 Axes>"
      ]
     },
     "metadata": {},
     "output_type": "display_data"
    }
   ],
   "source": [
    "acc = history.history['accuracy']\n",
    "val_acc = history.history['val_accuracy']\n",
    "\n",
    "plt.plot(history.epoch, acc, 'r', label='Training accuracy')\n",
    "plt.plot(history.epoch, val_acc, 'b', label='Validation accuracy')\n",
    "plt.title('Training and validation accuracy')\n",
    "plt.grid(True)\n",
    "plt.figure()"
   ]
  },
  {
   "cell_type": "code",
   "execution_count": 13,
   "id": "3c110391",
   "metadata": {},
   "outputs": [
    {
     "data": {
      "image/png": "[encoded data removed]",
      "text/plain": [
       "<Figure size 432x288 with 1 Axes>"
      ]
     },
     "metadata": {
      "needs_background": "light"
     },
     "output_type": "display_data"
    }
   ],
   "source": [
    "loss = history.history['loss']\n",
    "val_loss = history.history['val_loss']\n",
    "\n",
    "plt.plot(history.epoch, loss, 'r', label='Training Loss')\n",
    "plt.plot(history.epoch, val_loss, 'b', label='Validation Loss')\n",
    "plt.title('Training and validation loss')\n",
    "plt.legend()\n",
    "plt.grid(True)\n",
    "plt.show()\n"
   ]
  },
  {
   "cell_type": "code",
   "execution_count": 14,
   "id": "5cfb5fcd",
   "metadata": {},
   "outputs": [
    {
     "name": "stdout",
     "output_type": "stream",
     "text": [
      "12/12 [==============================] - 8s 687ms/step - loss: 0.3811 - accuracy: 0.8462\n"
     ]
    },
    {
     "data": {
      "text/plain": [
       "[0.3811001181602478, 0.8461538553237915]"
      ]
     },
     "execution_count": 14,
     "metadata": {},
     "output_type": "execute_result"
    }
   ],
   "source": [
    "model.evaluate(valid_generator, batch_size=1)\n"
   ]
  },
  {
   "cell_type": "code",
   "execution_count": 15,
   "id": "4ffe1f4c",
   "metadata": {},
   "outputs": [
    {
     "name": "stdout",
     "output_type": "stream",
     "text": [
      "              precision    recall  f1-score   support\n",
      "\n",
      "           0       0.91      0.83      0.87        63\n",
      "           1       0.95      0.75      0.84        55\n",
      "           2       0.74      0.95      0.84        64\n",
      "\n",
      "    accuracy                           0.85       182\n",
      "   macro avg       0.87      0.84      0.85       182\n",
      "weighted avg       0.87      0.85      0.85       182\n",
      "\n"
     ]
    }
   ],
   "source": [
    "y_pred = model.predict(valid_generator)\n",
    "y_pred = np.argmax(y_pred, axis=1)\n",
    "print(classification_report(valid_generator.classes, y_pred))"
   ]
  },
  {
   "cell_type": "code",
   "execution_count": 16,
   "id": "69487995",
   "metadata": {},
   "outputs": [],
   "source": [
    "model.save(\"FACEDRIVE2.h5\")\n"
   ]
  },
  {
   "cell_type": "code",
   "execution_count": 17,
   "id": "cc955e43",
   "metadata": {},
   "outputs": [],
   "source": [
    "model.save(\"FACEDRIVE2HDF5.hdf5\")\n"
   ]
  },
  {
   "cell_type": "code",
   "execution_count": 18,
   "id": "98ded973",
   "metadata": {},
   "outputs": [],
   "source": [
    "model = keras.models.load_model(\"FACEDRIVE2.h5\")\n"
   ]
  },
  {
   "cell_type": "code",
   "execution_count": 24,
   "id": "fe774908",
   "metadata": {},
   "outputs": [
    {
     "name": "stdout",
     "output_type": "stream",
     "text": [
      "0\n"
     ]
    }
   ],
   "source": [
    "img = keras.preprocessing.image.load_img(\n",
    "    \"f1.jpg\", target_size=(150,150)\n",
    ")\n",
    "img_array = keras.preprocessing.image.img_to_array(img)\n",
    "img_array = tf.expand_dims(img_array, 0)  # Create batch axis\n",
    "\n",
    "predictions = model.predict(img_array)\n",
    "preds = np.argmax(predictions, axis=1)\n",
    "score = preds[0]\n",
    "print(score)\n"
   ]
  },
  {
   "cell_type": "code",
   "execution_count": 33,
   "id": "6233ba85",
   "metadata": {},
   "outputs": [],
   "source": [
    "import cv2\n",
    "from PIL import Image\n",
    "import time"
   ]
  },
  {
   "cell_type": "code",
   "execution_count": 34,
   "id": "a9ea0870",
   "metadata": {},
   "outputs": [],
   "source": [
    "video=cv2.VideoCapture(0)"
   ]
  },
  {
   "cell_type": "code",
   "execution_count": 35,
   "id": "447b39c1",
   "metadata": {},
   "outputs": [
    {
     "name": "stdout",
     "output_type": "stream",
     "text": [
      "0\n",
      "0\n",
      "0\n",
      "1\n",
      "2\n",
      "2\n",
      "2\n",
      "0\n",
      "2\n",
      "0\n",
      "0\n",
      "1\n",
      "1\n",
      "1\n",
      "0\n",
      "1\n",
      "1\n",
      "1\n",
      "1\n"
     ]
    }
   ],
   "source": [
    "\n",
    "while True:\n",
    "        _, frame = video.read()\n",
    "        time.sleep(2)\n",
    "        im = Image.fromarray(frame, 'RGB')\n",
    "\n",
    "        im = im.resize((150,150))\n",
    "        img_array = np.array(im)\n",
    "        img_array = np.expand_dims(img_array, axis=0)       \n",
    "        predictions = model.predict(img_array)\n",
    "        preds = np.argmax(predictions, axis=1)\n",
    "        score = preds[0]\n",
    "        print(score)\n",
    "        cv2.imshow(\"Capturing\", frame)\n",
    "        key=cv2.waitKey(1)\n",
    "        if key == ord('q'):\n",
    "                break\n",
    "video.release()\n",
    "cv2.destroyAllWindows()\n"
   ]
  },
  {
   "cell_type": "code",
   "execution_count": null,
   "id": "31b9197f",
   "metadata": {},
   "outputs": [],
   "source": []
  }
 ],
 "metadata": {
  "kernelspec": {
   "display_name": "Python 3",
   "language": "python",
   "name": "python3"
  },
  "language_info": {
   "codemirror_mode": {
    "name": "ipython",
    "version": 3
   },
   "file_extension": ".py",
   "mimetype": "text/x-python",
   "name": "python",
   "nbconvert_exporter": "python",
   "pygments_lexer": "ipython3",
   "version": "3.9.5"
  }
 },
 "nbformat": 4,
 "nbformat_minor": 5
}
